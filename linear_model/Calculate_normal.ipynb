{
 "cells": [
  {
   "cell_type": "code",
   "execution_count": 1,
   "metadata": {},
   "outputs": [],
   "source": [
    "import pandas as pd\n",
    "import numpy as np \n",
    "import pickle \n",
    "import matplotlib.pyplot as plt\n",
    "%matplotlib inline"
   ]
  },
  {
   "cell_type": "code",
   "execution_count": 2,
   "metadata": {},
   "outputs": [],
   "source": [
    "plt.rcParams['font.sans-serif'] = ['Microsoft JHenghei']\n",
    "plt.rcParams['axes.unicode_minus'] = False"
   ]
  },
  {
   "cell_type": "code",
   "execution_count": 3,
   "metadata": {},
   "outputs": [],
   "source": [
    "get = pickle.load(open('simulation_data/parameters_0.pkl','rb'))"
   ]
  },
  {
   "cell_type": "code",
   "execution_count": 4,
   "metadata": {},
   "outputs": [],
   "source": [
    "data = pd.read_csv('simulation_data/data_0.csv')"
   ]
  },
  {
   "cell_type": "code",
   "execution_count": 5,
   "metadata": {},
   "outputs": [],
   "source": [
    "X = data.iloc[:,:5]"
   ]
  },
  {
   "cell_type": "code",
   "execution_count": 6,
   "metadata": {},
   "outputs": [],
   "source": [
    "T_beta = get['beta']"
   ]
  },
  {
   "cell_type": "code",
   "execution_count": 7,
   "metadata": {},
   "outputs": [],
   "source": [
    "simu_beta1 = pd.read_csv('1000_times_beta.csv')\n",
    "simu_beta2 = pd.read_csv('1000_times_beta_gamma_decay.csv')\n",
    "simu_beta3 = pd.read_csv('1000_times_beta_small_sample.csv')\n",
    "simu_beta4 = pd.read_csv('1000_times_beta_small_sample_and_gamma_decay.csv')\n",
    "simu_beta5 = pd.read_csv('1000_times_beta_test.csv')"
   ]
  },
  {
   "cell_type": "code",
   "execution_count": 8,
   "metadata": {},
   "outputs": [],
   "source": [
    "B = np.repeat(5,5)\n",
    "B = B.reshape(5,1)\n",
    "B = np.dot(B,B.T)\n",
    "\n",
    "B = B + np.eye(5)"
   ]
  },
  {
   "cell_type": "code",
   "execution_count": 9,
   "metadata": {},
   "outputs": [
    {
     "data": {
      "text/plain": [
       "array([[26., 25., 25., 25., 25.],\n",
       "       [25., 26., 25., 25., 25.],\n",
       "       [25., 25., 26., 25., 25.],\n",
       "       [25., 25., 25., 26., 25.],\n",
       "       [25., 25., 25., 25., 26.]])"
      ]
     },
     "execution_count": 9,
     "metadata": {},
     "output_type": "execute_result"
    }
   ],
   "source": [
    "B"
   ]
  },
  {
   "cell_type": "code",
   "execution_count": 10,
   "metadata": {},
   "outputs": [
    {
     "data": {
      "text/plain": [
       "array([ 0.09467958,  0.27820584, -2.07799018,  0.53026507, -0.96156416])"
      ]
     },
     "execution_count": 10,
     "metadata": {},
     "output_type": "execute_result"
    }
   ],
   "source": [
    "T_beta"
   ]
  },
  {
   "cell_type": "code",
   "execution_count": 11,
   "metadata": {},
   "outputs": [],
   "source": [
    "V1 = (simu_beta1 - T_beta)*np.sqrt(50000)\n",
    "V2 = (simu_beta2 - T_beta)*np.sqrt(50000)\n",
    "V3 = (simu_beta3 - T_beta)*np.sqrt(1000)\n",
    "V4 = (simu_beta4 - T_beta)*np.sqrt(1000)\n",
    "V5 = (simu_beta5 - T_beta)*np.sqrt(50000)"
   ]
  },
  {
   "cell_type": "markdown",
   "metadata": {},
   "source": [
    "# ASGD 全部樣本 固定學習率"
   ]
  },
  {
   "cell_type": "code",
   "execution_count": 12,
   "metadata": {
    "scrolled": true
   },
   "outputs": [
    {
     "data": {
      "text/html": [
       "<div>\n",
       "<style scoped>\n",
       "    .dataframe tbody tr th:only-of-type {\n",
       "        vertical-align: middle;\n",
       "    }\n",
       "\n",
       "    .dataframe tbody tr th {\n",
       "        vertical-align: top;\n",
       "    }\n",
       "\n",
       "    .dataframe thead th {\n",
       "        text-align: right;\n",
       "    }\n",
       "</style>\n",
       "<table border=\"1\" class=\"dataframe\">\n",
       "  <thead>\n",
       "    <tr style=\"text-align: right;\">\n",
       "      <th></th>\n",
       "      <th>0</th>\n",
       "      <th>1</th>\n",
       "      <th>2</th>\n",
       "      <th>3</th>\n",
       "      <th>4</th>\n",
       "    </tr>\n",
       "  </thead>\n",
       "  <tbody>\n",
       "    <tr>\n",
       "      <td>0</td>\n",
       "      <td>16.814458</td>\n",
       "      <td>-3.621806</td>\n",
       "      <td>-3.865386</td>\n",
       "      <td>-4.336637</td>\n",
       "      <td>-4.979729</td>\n",
       "    </tr>\n",
       "    <tr>\n",
       "      <td>1</td>\n",
       "      <td>-3.621806</td>\n",
       "      <td>16.393116</td>\n",
       "      <td>-4.611862</td>\n",
       "      <td>-4.515419</td>\n",
       "      <td>-3.672842</td>\n",
       "    </tr>\n",
       "    <tr>\n",
       "      <td>2</td>\n",
       "      <td>-3.865386</td>\n",
       "      <td>-4.611862</td>\n",
       "      <td>15.992807</td>\n",
       "      <td>-4.091299</td>\n",
       "      <td>-3.438462</td>\n",
       "    </tr>\n",
       "    <tr>\n",
       "      <td>3</td>\n",
       "      <td>-4.336637</td>\n",
       "      <td>-4.515419</td>\n",
       "      <td>-4.091299</td>\n",
       "      <td>17.533271</td>\n",
       "      <td>-4.577788</td>\n",
       "    </tr>\n",
       "    <tr>\n",
       "      <td>4</td>\n",
       "      <td>-4.979729</td>\n",
       "      <td>-3.672842</td>\n",
       "      <td>-3.438462</td>\n",
       "      <td>-4.577788</td>\n",
       "      <td>16.697793</td>\n",
       "    </tr>\n",
       "  </tbody>\n",
       "</table>\n",
       "</div>"
      ],
      "text/plain": [
       "           0          1          2          3          4\n",
       "0  16.814458  -3.621806  -3.865386  -4.336637  -4.979729\n",
       "1  -3.621806  16.393116  -4.611862  -4.515419  -3.672842\n",
       "2  -3.865386  -4.611862  15.992807  -4.091299  -3.438462\n",
       "3  -4.336637  -4.515419  -4.091299  17.533271  -4.577788\n",
       "4  -4.979729  -3.672842  -3.438462  -4.577788  16.697793"
      ]
     },
     "execution_count": 12,
     "metadata": {},
     "output_type": "execute_result"
    }
   ],
   "source": [
    "V1.cov()"
   ]
  },
  {
   "cell_type": "code",
   "execution_count": 13,
   "metadata": {
    "scrolled": false
   },
   "outputs": [
    {
     "data": {
      "text/html": [
       "<div>\n",
       "<style scoped>\n",
       "    .dataframe tbody tr th:only-of-type {\n",
       "        vertical-align: middle;\n",
       "    }\n",
       "\n",
       "    .dataframe tbody tr th {\n",
       "        vertical-align: top;\n",
       "    }\n",
       "\n",
       "    .dataframe thead th {\n",
       "        text-align: right;\n",
       "    }\n",
       "</style>\n",
       "<table border=\"1\" class=\"dataframe\">\n",
       "  <thead>\n",
       "    <tr style=\"text-align: right;\">\n",
       "      <th></th>\n",
       "      <th>0</th>\n",
       "      <th>1</th>\n",
       "      <th>2</th>\n",
       "      <th>3</th>\n",
       "      <th>4</th>\n",
       "    </tr>\n",
       "  </thead>\n",
       "  <tbody>\n",
       "    <tr>\n",
       "      <td>0</td>\n",
       "      <td>0.801587</td>\n",
       "      <td>-0.198413</td>\n",
       "      <td>-0.198413</td>\n",
       "      <td>-0.198413</td>\n",
       "      <td>-0.198413</td>\n",
       "    </tr>\n",
       "    <tr>\n",
       "      <td>1</td>\n",
       "      <td>-0.198413</td>\n",
       "      <td>0.801587</td>\n",
       "      <td>-0.198413</td>\n",
       "      <td>-0.198413</td>\n",
       "      <td>-0.198413</td>\n",
       "    </tr>\n",
       "    <tr>\n",
       "      <td>2</td>\n",
       "      <td>-0.198413</td>\n",
       "      <td>-0.198413</td>\n",
       "      <td>0.801587</td>\n",
       "      <td>-0.198413</td>\n",
       "      <td>-0.198413</td>\n",
       "    </tr>\n",
       "    <tr>\n",
       "      <td>3</td>\n",
       "      <td>-0.198413</td>\n",
       "      <td>-0.198413</td>\n",
       "      <td>-0.198413</td>\n",
       "      <td>0.801587</td>\n",
       "      <td>-0.198413</td>\n",
       "    </tr>\n",
       "    <tr>\n",
       "      <td>4</td>\n",
       "      <td>-0.198413</td>\n",
       "      <td>-0.198413</td>\n",
       "      <td>-0.198413</td>\n",
       "      <td>-0.198413</td>\n",
       "      <td>0.801587</td>\n",
       "    </tr>\n",
       "  </tbody>\n",
       "</table>\n",
       "</div>"
      ],
      "text/plain": [
       "          0         1         2         3         4\n",
       "0  0.801587 -0.198413 -0.198413 -0.198413 -0.198413\n",
       "1 -0.198413  0.801587 -0.198413 -0.198413 -0.198413\n",
       "2 -0.198413 -0.198413  0.801587 -0.198413 -0.198413\n",
       "3 -0.198413 -0.198413 -0.198413  0.801587 -0.198413\n",
       "4 -0.198413 -0.198413 -0.198413 -0.198413  0.801587"
      ]
     },
     "execution_count": 13,
     "metadata": {},
     "output_type": "execute_result"
    }
   ],
   "source": [
    "pd.DataFrame(np.linalg.inv(B))"
   ]
  },
  {
   "cell_type": "markdown",
   "metadata": {},
   "source": [
    "# ASGD 全部樣本 Gamma decay"
   ]
  },
  {
   "cell_type": "code",
   "execution_count": 14,
   "metadata": {
    "scrolled": true
   },
   "outputs": [
    {
     "data": {
      "text/html": [
       "<div>\n",
       "<style scoped>\n",
       "    .dataframe tbody tr th:only-of-type {\n",
       "        vertical-align: middle;\n",
       "    }\n",
       "\n",
       "    .dataframe tbody tr th {\n",
       "        vertical-align: top;\n",
       "    }\n",
       "\n",
       "    .dataframe thead th {\n",
       "        text-align: right;\n",
       "    }\n",
       "</style>\n",
       "<table border=\"1\" class=\"dataframe\">\n",
       "  <thead>\n",
       "    <tr style=\"text-align: right;\">\n",
       "      <th></th>\n",
       "      <th>0</th>\n",
       "      <th>1</th>\n",
       "      <th>2</th>\n",
       "      <th>3</th>\n",
       "      <th>4</th>\n",
       "    </tr>\n",
       "  </thead>\n",
       "  <tbody>\n",
       "    <tr>\n",
       "      <td>0</td>\n",
       "      <td>329.632283</td>\n",
       "      <td>-90.966198</td>\n",
       "      <td>-80.516440</td>\n",
       "      <td>-83.751523</td>\n",
       "      <td>-74.300165</td>\n",
       "    </tr>\n",
       "    <tr>\n",
       "      <td>1</td>\n",
       "      <td>-90.966198</td>\n",
       "      <td>339.317390</td>\n",
       "      <td>-95.188721</td>\n",
       "      <td>-82.229901</td>\n",
       "      <td>-71.213416</td>\n",
       "    </tr>\n",
       "    <tr>\n",
       "      <td>2</td>\n",
       "      <td>-80.516440</td>\n",
       "      <td>-95.188721</td>\n",
       "      <td>332.032749</td>\n",
       "      <td>-85.017350</td>\n",
       "      <td>-71.388182</td>\n",
       "    </tr>\n",
       "    <tr>\n",
       "      <td>3</td>\n",
       "      <td>-83.751523</td>\n",
       "      <td>-82.229901</td>\n",
       "      <td>-85.017350</td>\n",
       "      <td>354.959752</td>\n",
       "      <td>-104.047247</td>\n",
       "    </tr>\n",
       "    <tr>\n",
       "      <td>4</td>\n",
       "      <td>-74.300165</td>\n",
       "      <td>-71.213416</td>\n",
       "      <td>-71.388182</td>\n",
       "      <td>-104.047247</td>\n",
       "      <td>321.301884</td>\n",
       "    </tr>\n",
       "  </tbody>\n",
       "</table>\n",
       "</div>"
      ],
      "text/plain": [
       "            0           1           2           3           4\n",
       "0  329.632283  -90.966198  -80.516440  -83.751523  -74.300165\n",
       "1  -90.966198  339.317390  -95.188721  -82.229901  -71.213416\n",
       "2  -80.516440  -95.188721  332.032749  -85.017350  -71.388182\n",
       "3  -83.751523  -82.229901  -85.017350  354.959752 -104.047247\n",
       "4  -74.300165  -71.213416  -71.388182 -104.047247  321.301884"
      ]
     },
     "execution_count": 14,
     "metadata": {},
     "output_type": "execute_result"
    }
   ],
   "source": [
    "V2.cov()"
   ]
  },
  {
   "cell_type": "code",
   "execution_count": 15,
   "metadata": {
    "scrolled": false
   },
   "outputs": [
    {
     "data": {
      "text/html": [
       "<div>\n",
       "<style scoped>\n",
       "    .dataframe tbody tr th:only-of-type {\n",
       "        vertical-align: middle;\n",
       "    }\n",
       "\n",
       "    .dataframe tbody tr th {\n",
       "        vertical-align: top;\n",
       "    }\n",
       "\n",
       "    .dataframe thead th {\n",
       "        text-align: right;\n",
       "    }\n",
       "</style>\n",
       "<table border=\"1\" class=\"dataframe\">\n",
       "  <thead>\n",
       "    <tr style=\"text-align: right;\">\n",
       "      <th></th>\n",
       "      <th>0</th>\n",
       "      <th>1</th>\n",
       "      <th>2</th>\n",
       "      <th>3</th>\n",
       "      <th>4</th>\n",
       "    </tr>\n",
       "  </thead>\n",
       "  <tbody>\n",
       "    <tr>\n",
       "      <td>0</td>\n",
       "      <td>0.801587</td>\n",
       "      <td>-0.198413</td>\n",
       "      <td>-0.198413</td>\n",
       "      <td>-0.198413</td>\n",
       "      <td>-0.198413</td>\n",
       "    </tr>\n",
       "    <tr>\n",
       "      <td>1</td>\n",
       "      <td>-0.198413</td>\n",
       "      <td>0.801587</td>\n",
       "      <td>-0.198413</td>\n",
       "      <td>-0.198413</td>\n",
       "      <td>-0.198413</td>\n",
       "    </tr>\n",
       "    <tr>\n",
       "      <td>2</td>\n",
       "      <td>-0.198413</td>\n",
       "      <td>-0.198413</td>\n",
       "      <td>0.801587</td>\n",
       "      <td>-0.198413</td>\n",
       "      <td>-0.198413</td>\n",
       "    </tr>\n",
       "    <tr>\n",
       "      <td>3</td>\n",
       "      <td>-0.198413</td>\n",
       "      <td>-0.198413</td>\n",
       "      <td>-0.198413</td>\n",
       "      <td>0.801587</td>\n",
       "      <td>-0.198413</td>\n",
       "    </tr>\n",
       "    <tr>\n",
       "      <td>4</td>\n",
       "      <td>-0.198413</td>\n",
       "      <td>-0.198413</td>\n",
       "      <td>-0.198413</td>\n",
       "      <td>-0.198413</td>\n",
       "      <td>0.801587</td>\n",
       "    </tr>\n",
       "  </tbody>\n",
       "</table>\n",
       "</div>"
      ],
      "text/plain": [
       "          0         1         2         3         4\n",
       "0  0.801587 -0.198413 -0.198413 -0.198413 -0.198413\n",
       "1 -0.198413  0.801587 -0.198413 -0.198413 -0.198413\n",
       "2 -0.198413 -0.198413  0.801587 -0.198413 -0.198413\n",
       "3 -0.198413 -0.198413 -0.198413  0.801587 -0.198413\n",
       "4 -0.198413 -0.198413 -0.198413 -0.198413  0.801587"
      ]
     },
     "execution_count": 15,
     "metadata": {},
     "output_type": "execute_result"
    }
   ],
   "source": [
    "pd.DataFrame(np.linalg.inv(B))"
   ]
  },
  {
   "cell_type": "markdown",
   "metadata": {},
   "source": [
    "# ASGD 小樣本訓練(1000筆) 固定學習率"
   ]
  },
  {
   "cell_type": "code",
   "execution_count": 16,
   "metadata": {
    "scrolled": true
   },
   "outputs": [
    {
     "data": {
      "text/html": [
       "<div>\n",
       "<style scoped>\n",
       "    .dataframe tbody tr th:only-of-type {\n",
       "        vertical-align: middle;\n",
       "    }\n",
       "\n",
       "    .dataframe tbody tr th {\n",
       "        vertical-align: top;\n",
       "    }\n",
       "\n",
       "    .dataframe thead th {\n",
       "        text-align: right;\n",
       "    }\n",
       "</style>\n",
       "<table border=\"1\" class=\"dataframe\">\n",
       "  <thead>\n",
       "    <tr style=\"text-align: right;\">\n",
       "      <th></th>\n",
       "      <th>0</th>\n",
       "      <th>1</th>\n",
       "      <th>2</th>\n",
       "      <th>3</th>\n",
       "      <th>4</th>\n",
       "    </tr>\n",
       "  </thead>\n",
       "  <tbody>\n",
       "    <tr>\n",
       "      <td>0</td>\n",
       "      <td>33.948399</td>\n",
       "      <td>-9.396377</td>\n",
       "      <td>-7.883612</td>\n",
       "      <td>-7.096635</td>\n",
       "      <td>-9.697221</td>\n",
       "    </tr>\n",
       "    <tr>\n",
       "      <td>1</td>\n",
       "      <td>-9.396377</td>\n",
       "      <td>35.085333</td>\n",
       "      <td>-7.976605</td>\n",
       "      <td>-9.642202</td>\n",
       "      <td>-8.046231</td>\n",
       "    </tr>\n",
       "    <tr>\n",
       "      <td>2</td>\n",
       "      <td>-7.883612</td>\n",
       "      <td>-7.976605</td>\n",
       "      <td>32.073243</td>\n",
       "      <td>-7.920292</td>\n",
       "      <td>-8.228320</td>\n",
       "    </tr>\n",
       "    <tr>\n",
       "      <td>3</td>\n",
       "      <td>-7.096635</td>\n",
       "      <td>-9.642202</td>\n",
       "      <td>-7.920292</td>\n",
       "      <td>32.688533</td>\n",
       "      <td>-7.983183</td>\n",
       "    </tr>\n",
       "    <tr>\n",
       "      <td>4</td>\n",
       "      <td>-9.697221</td>\n",
       "      <td>-8.046231</td>\n",
       "      <td>-8.228320</td>\n",
       "      <td>-7.983183</td>\n",
       "      <td>34.027967</td>\n",
       "    </tr>\n",
       "  </tbody>\n",
       "</table>\n",
       "</div>"
      ],
      "text/plain": [
       "           0          1          2          3          4\n",
       "0  33.948399  -9.396377  -7.883612  -7.096635  -9.697221\n",
       "1  -9.396377  35.085333  -7.976605  -9.642202  -8.046231\n",
       "2  -7.883612  -7.976605  32.073243  -7.920292  -8.228320\n",
       "3  -7.096635  -9.642202  -7.920292  32.688533  -7.983183\n",
       "4  -9.697221  -8.046231  -8.228320  -7.983183  34.027967"
      ]
     },
     "execution_count": 16,
     "metadata": {},
     "output_type": "execute_result"
    }
   ],
   "source": [
    "V3.cov()"
   ]
  },
  {
   "cell_type": "code",
   "execution_count": 17,
   "metadata": {
    "scrolled": false
   },
   "outputs": [
    {
     "data": {
      "text/html": [
       "<div>\n",
       "<style scoped>\n",
       "    .dataframe tbody tr th:only-of-type {\n",
       "        vertical-align: middle;\n",
       "    }\n",
       "\n",
       "    .dataframe tbody tr th {\n",
       "        vertical-align: top;\n",
       "    }\n",
       "\n",
       "    .dataframe thead th {\n",
       "        text-align: right;\n",
       "    }\n",
       "</style>\n",
       "<table border=\"1\" class=\"dataframe\">\n",
       "  <thead>\n",
       "    <tr style=\"text-align: right;\">\n",
       "      <th></th>\n",
       "      <th>0</th>\n",
       "      <th>1</th>\n",
       "      <th>2</th>\n",
       "      <th>3</th>\n",
       "      <th>4</th>\n",
       "    </tr>\n",
       "  </thead>\n",
       "  <tbody>\n",
       "    <tr>\n",
       "      <td>0</td>\n",
       "      <td>0.801587</td>\n",
       "      <td>-0.198413</td>\n",
       "      <td>-0.198413</td>\n",
       "      <td>-0.198413</td>\n",
       "      <td>-0.198413</td>\n",
       "    </tr>\n",
       "    <tr>\n",
       "      <td>1</td>\n",
       "      <td>-0.198413</td>\n",
       "      <td>0.801587</td>\n",
       "      <td>-0.198413</td>\n",
       "      <td>-0.198413</td>\n",
       "      <td>-0.198413</td>\n",
       "    </tr>\n",
       "    <tr>\n",
       "      <td>2</td>\n",
       "      <td>-0.198413</td>\n",
       "      <td>-0.198413</td>\n",
       "      <td>0.801587</td>\n",
       "      <td>-0.198413</td>\n",
       "      <td>-0.198413</td>\n",
       "    </tr>\n",
       "    <tr>\n",
       "      <td>3</td>\n",
       "      <td>-0.198413</td>\n",
       "      <td>-0.198413</td>\n",
       "      <td>-0.198413</td>\n",
       "      <td>0.801587</td>\n",
       "      <td>-0.198413</td>\n",
       "    </tr>\n",
       "    <tr>\n",
       "      <td>4</td>\n",
       "      <td>-0.198413</td>\n",
       "      <td>-0.198413</td>\n",
       "      <td>-0.198413</td>\n",
       "      <td>-0.198413</td>\n",
       "      <td>0.801587</td>\n",
       "    </tr>\n",
       "  </tbody>\n",
       "</table>\n",
       "</div>"
      ],
      "text/plain": [
       "          0         1         2         3         4\n",
       "0  0.801587 -0.198413 -0.198413 -0.198413 -0.198413\n",
       "1 -0.198413  0.801587 -0.198413 -0.198413 -0.198413\n",
       "2 -0.198413 -0.198413  0.801587 -0.198413 -0.198413\n",
       "3 -0.198413 -0.198413 -0.198413  0.801587 -0.198413\n",
       "4 -0.198413 -0.198413 -0.198413 -0.198413  0.801587"
      ]
     },
     "execution_count": 17,
     "metadata": {},
     "output_type": "execute_result"
    }
   ],
   "source": [
    "pd.DataFrame(np.linalg.inv(B))"
   ]
  },
  {
   "cell_type": "markdown",
   "metadata": {},
   "source": [
    "# ASGD 小樣本訓練(1000筆) Gamma decay"
   ]
  },
  {
   "cell_type": "code",
   "execution_count": 18,
   "metadata": {
    "scrolled": false
   },
   "outputs": [
    {
     "data": {
      "text/html": [
       "<div>\n",
       "<style scoped>\n",
       "    .dataframe tbody tr th:only-of-type {\n",
       "        vertical-align: middle;\n",
       "    }\n",
       "\n",
       "    .dataframe tbody tr th {\n",
       "        vertical-align: top;\n",
       "    }\n",
       "\n",
       "    .dataframe thead th {\n",
       "        text-align: right;\n",
       "    }\n",
       "</style>\n",
       "<table border=\"1\" class=\"dataframe\">\n",
       "  <thead>\n",
       "    <tr style=\"text-align: right;\">\n",
       "      <th></th>\n",
       "      <th>0</th>\n",
       "      <th>1</th>\n",
       "      <th>2</th>\n",
       "      <th>3</th>\n",
       "      <th>4</th>\n",
       "    </tr>\n",
       "  </thead>\n",
       "  <tbody>\n",
       "    <tr>\n",
       "      <td>0</td>\n",
       "      <td>492.608074</td>\n",
       "      <td>-106.857457</td>\n",
       "      <td>-135.548157</td>\n",
       "      <td>-121.042877</td>\n",
       "      <td>-129.057049</td>\n",
       "    </tr>\n",
       "    <tr>\n",
       "      <td>1</td>\n",
       "      <td>-106.857457</td>\n",
       "      <td>454.413105</td>\n",
       "      <td>-141.082379</td>\n",
       "      <td>-118.820372</td>\n",
       "      <td>-88.278529</td>\n",
       "    </tr>\n",
       "    <tr>\n",
       "      <td>2</td>\n",
       "      <td>-135.548157</td>\n",
       "      <td>-141.082379</td>\n",
       "      <td>494.033523</td>\n",
       "      <td>-110.265819</td>\n",
       "      <td>-107.038365</td>\n",
       "    </tr>\n",
       "    <tr>\n",
       "      <td>3</td>\n",
       "      <td>-121.042877</td>\n",
       "      <td>-118.820372</td>\n",
       "      <td>-110.265819</td>\n",
       "      <td>496.488780</td>\n",
       "      <td>-146.390440</td>\n",
       "    </tr>\n",
       "    <tr>\n",
       "      <td>4</td>\n",
       "      <td>-129.057049</td>\n",
       "      <td>-88.278529</td>\n",
       "      <td>-107.038365</td>\n",
       "      <td>-146.390440</td>\n",
       "      <td>471.494243</td>\n",
       "    </tr>\n",
       "  </tbody>\n",
       "</table>\n",
       "</div>"
      ],
      "text/plain": [
       "            0           1           2           3           4\n",
       "0  492.608074 -106.857457 -135.548157 -121.042877 -129.057049\n",
       "1 -106.857457  454.413105 -141.082379 -118.820372  -88.278529\n",
       "2 -135.548157 -141.082379  494.033523 -110.265819 -107.038365\n",
       "3 -121.042877 -118.820372 -110.265819  496.488780 -146.390440\n",
       "4 -129.057049  -88.278529 -107.038365 -146.390440  471.494243"
      ]
     },
     "execution_count": 18,
     "metadata": {},
     "output_type": "execute_result"
    }
   ],
   "source": [
    "V4.cov()"
   ]
  },
  {
   "cell_type": "code",
   "execution_count": 19,
   "metadata": {
    "scrolled": false
   },
   "outputs": [
    {
     "data": {
      "text/html": [
       "<div>\n",
       "<style scoped>\n",
       "    .dataframe tbody tr th:only-of-type {\n",
       "        vertical-align: middle;\n",
       "    }\n",
       "\n",
       "    .dataframe tbody tr th {\n",
       "        vertical-align: top;\n",
       "    }\n",
       "\n",
       "    .dataframe thead th {\n",
       "        text-align: right;\n",
       "    }\n",
       "</style>\n",
       "<table border=\"1\" class=\"dataframe\">\n",
       "  <thead>\n",
       "    <tr style=\"text-align: right;\">\n",
       "      <th></th>\n",
       "      <th>0</th>\n",
       "      <th>1</th>\n",
       "      <th>2</th>\n",
       "      <th>3</th>\n",
       "      <th>4</th>\n",
       "    </tr>\n",
       "  </thead>\n",
       "  <tbody>\n",
       "    <tr>\n",
       "      <td>0</td>\n",
       "      <td>0.801587</td>\n",
       "      <td>-0.198413</td>\n",
       "      <td>-0.198413</td>\n",
       "      <td>-0.198413</td>\n",
       "      <td>-0.198413</td>\n",
       "    </tr>\n",
       "    <tr>\n",
       "      <td>1</td>\n",
       "      <td>-0.198413</td>\n",
       "      <td>0.801587</td>\n",
       "      <td>-0.198413</td>\n",
       "      <td>-0.198413</td>\n",
       "      <td>-0.198413</td>\n",
       "    </tr>\n",
       "    <tr>\n",
       "      <td>2</td>\n",
       "      <td>-0.198413</td>\n",
       "      <td>-0.198413</td>\n",
       "      <td>0.801587</td>\n",
       "      <td>-0.198413</td>\n",
       "      <td>-0.198413</td>\n",
       "    </tr>\n",
       "    <tr>\n",
       "      <td>3</td>\n",
       "      <td>-0.198413</td>\n",
       "      <td>-0.198413</td>\n",
       "      <td>-0.198413</td>\n",
       "      <td>0.801587</td>\n",
       "      <td>-0.198413</td>\n",
       "    </tr>\n",
       "    <tr>\n",
       "      <td>4</td>\n",
       "      <td>-0.198413</td>\n",
       "      <td>-0.198413</td>\n",
       "      <td>-0.198413</td>\n",
       "      <td>-0.198413</td>\n",
       "      <td>0.801587</td>\n",
       "    </tr>\n",
       "  </tbody>\n",
       "</table>\n",
       "</div>"
      ],
      "text/plain": [
       "          0         1         2         3         4\n",
       "0  0.801587 -0.198413 -0.198413 -0.198413 -0.198413\n",
       "1 -0.198413  0.801587 -0.198413 -0.198413 -0.198413\n",
       "2 -0.198413 -0.198413  0.801587 -0.198413 -0.198413\n",
       "3 -0.198413 -0.198413 -0.198413  0.801587 -0.198413\n",
       "4 -0.198413 -0.198413 -0.198413 -0.198413  0.801587"
      ]
     },
     "execution_count": 19,
     "metadata": {},
     "output_type": "execute_result"
    }
   ],
   "source": [
    "pd.DataFrame(np.linalg.inv(B))"
   ]
  },
  {
   "cell_type": "markdown",
   "metadata": {},
   "source": [
    "# ASGD 全部樣本 學習率用論文的寫法"
   ]
  },
  {
   "cell_type": "code",
   "execution_count": 20,
   "metadata": {},
   "outputs": [
    {
     "data": {
      "text/html": [
       "<div>\n",
       "<style scoped>\n",
       "    .dataframe tbody tr th:only-of-type {\n",
       "        vertical-align: middle;\n",
       "    }\n",
       "\n",
       "    .dataframe tbody tr th {\n",
       "        vertical-align: top;\n",
       "    }\n",
       "\n",
       "    .dataframe thead th {\n",
       "        text-align: right;\n",
       "    }\n",
       "</style>\n",
       "<table border=\"1\" class=\"dataframe\">\n",
       "  <thead>\n",
       "    <tr style=\"text-align: right;\">\n",
       "      <th></th>\n",
       "      <th>0</th>\n",
       "      <th>1</th>\n",
       "      <th>2</th>\n",
       "      <th>3</th>\n",
       "      <th>4</th>\n",
       "    </tr>\n",
       "  </thead>\n",
       "  <tbody>\n",
       "    <tr>\n",
       "      <td>0</td>\n",
       "      <td>33.442519</td>\n",
       "      <td>-3.320764</td>\n",
       "      <td>-2.362376</td>\n",
       "      <td>-11.739004</td>\n",
       "      <td>-15.005313</td>\n",
       "    </tr>\n",
       "    <tr>\n",
       "      <td>1</td>\n",
       "      <td>-3.320764</td>\n",
       "      <td>35.500292</td>\n",
       "      <td>-14.361195</td>\n",
       "      <td>-12.439341</td>\n",
       "      <td>-4.284863</td>\n",
       "    </tr>\n",
       "    <tr>\n",
       "      <td>2</td>\n",
       "      <td>-2.362376</td>\n",
       "      <td>-14.361195</td>\n",
       "      <td>39.548028</td>\n",
       "      <td>-6.770630</td>\n",
       "      <td>-15.075458</td>\n",
       "    </tr>\n",
       "    <tr>\n",
       "      <td>3</td>\n",
       "      <td>-11.739004</td>\n",
       "      <td>-12.439341</td>\n",
       "      <td>-6.770630</td>\n",
       "      <td>39.471633</td>\n",
       "      <td>-9.514956</td>\n",
       "    </tr>\n",
       "    <tr>\n",
       "      <td>4</td>\n",
       "      <td>-15.005313</td>\n",
       "      <td>-4.284863</td>\n",
       "      <td>-15.075458</td>\n",
       "      <td>-9.514956</td>\n",
       "      <td>43.038751</td>\n",
       "    </tr>\n",
       "  </tbody>\n",
       "</table>\n",
       "</div>"
      ],
      "text/plain": [
       "           0          1          2          3          4\n",
       "0  33.442519  -3.320764  -2.362376 -11.739004 -15.005313\n",
       "1  -3.320764  35.500292 -14.361195 -12.439341  -4.284863\n",
       "2  -2.362376 -14.361195  39.548028  -6.770630 -15.075458\n",
       "3 -11.739004 -12.439341  -6.770630  39.471633  -9.514956\n",
       "4 -15.005313  -4.284863 -15.075458  -9.514956  43.038751"
      ]
     },
     "execution_count": 20,
     "metadata": {},
     "output_type": "execute_result"
    }
   ],
   "source": [
    "V5.cov()"
   ]
  },
  {
   "cell_type": "code",
   "execution_count": 21,
   "metadata": {},
   "outputs": [
    {
     "data": {
      "text/html": [
       "<div>\n",
       "<style scoped>\n",
       "    .dataframe tbody tr th:only-of-type {\n",
       "        vertical-align: middle;\n",
       "    }\n",
       "\n",
       "    .dataframe tbody tr th {\n",
       "        vertical-align: top;\n",
       "    }\n",
       "\n",
       "    .dataframe thead th {\n",
       "        text-align: right;\n",
       "    }\n",
       "</style>\n",
       "<table border=\"1\" class=\"dataframe\">\n",
       "  <thead>\n",
       "    <tr style=\"text-align: right;\">\n",
       "      <th></th>\n",
       "      <th>0</th>\n",
       "      <th>1</th>\n",
       "      <th>2</th>\n",
       "      <th>3</th>\n",
       "      <th>4</th>\n",
       "    </tr>\n",
       "  </thead>\n",
       "  <tbody>\n",
       "    <tr>\n",
       "      <td>0</td>\n",
       "      <td>0.801587</td>\n",
       "      <td>-0.198413</td>\n",
       "      <td>-0.198413</td>\n",
       "      <td>-0.198413</td>\n",
       "      <td>-0.198413</td>\n",
       "    </tr>\n",
       "    <tr>\n",
       "      <td>1</td>\n",
       "      <td>-0.198413</td>\n",
       "      <td>0.801587</td>\n",
       "      <td>-0.198413</td>\n",
       "      <td>-0.198413</td>\n",
       "      <td>-0.198413</td>\n",
       "    </tr>\n",
       "    <tr>\n",
       "      <td>2</td>\n",
       "      <td>-0.198413</td>\n",
       "      <td>-0.198413</td>\n",
       "      <td>0.801587</td>\n",
       "      <td>-0.198413</td>\n",
       "      <td>-0.198413</td>\n",
       "    </tr>\n",
       "    <tr>\n",
       "      <td>3</td>\n",
       "      <td>-0.198413</td>\n",
       "      <td>-0.198413</td>\n",
       "      <td>-0.198413</td>\n",
       "      <td>0.801587</td>\n",
       "      <td>-0.198413</td>\n",
       "    </tr>\n",
       "    <tr>\n",
       "      <td>4</td>\n",
       "      <td>-0.198413</td>\n",
       "      <td>-0.198413</td>\n",
       "      <td>-0.198413</td>\n",
       "      <td>-0.198413</td>\n",
       "      <td>0.801587</td>\n",
       "    </tr>\n",
       "  </tbody>\n",
       "</table>\n",
       "</div>"
      ],
      "text/plain": [
       "          0         1         2         3         4\n",
       "0  0.801587 -0.198413 -0.198413 -0.198413 -0.198413\n",
       "1 -0.198413  0.801587 -0.198413 -0.198413 -0.198413\n",
       "2 -0.198413 -0.198413  0.801587 -0.198413 -0.198413\n",
       "3 -0.198413 -0.198413 -0.198413  0.801587 -0.198413\n",
       "4 -0.198413 -0.198413 -0.198413 -0.198413  0.801587"
      ]
     },
     "execution_count": 21,
     "metadata": {},
     "output_type": "execute_result"
    }
   ],
   "source": [
    "pd.DataFrame(np.linalg.inv(B))"
   ]
  }
 ],
 "metadata": {
  "kernelspec": {
   "display_name": "Python 3",
   "language": "python",
   "name": "python3"
  },
  "language_info": {
   "codemirror_mode": {
    "name": "ipython",
    "version": 3
   },
   "file_extension": ".py",
   "mimetype": "text/x-python",
   "name": "python",
   "nbconvert_exporter": "python",
   "pygments_lexer": "ipython3",
   "version": "3.7.3"
  },
  "toc": {
   "base_numbering": 1,
   "nav_menu": {},
   "number_sections": false,
   "sideBar": true,
   "skip_h1_title": false,
   "title_cell": "Table of Contents",
   "title_sidebar": "Contents",
   "toc_cell": false,
   "toc_position": {
    "height": "calc(100% - 180px)",
    "left": "10px",
    "top": "150px",
    "width": "307.2px"
   },
   "toc_section_display": true,
   "toc_window_display": false
  }
 },
 "nbformat": 4,
 "nbformat_minor": 2
}
