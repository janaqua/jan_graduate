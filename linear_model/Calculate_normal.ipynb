{
 "cells": [
  {
   "cell_type": "code",
   "execution_count": 77,
   "metadata": {},
   "outputs": [],
   "source": [
    "import pandas as pd\n",
    "import numpy as np \n",
    "import pickle \n",
    "import matplotlib.pyplot as plt\n",
    "%matplotlib inline"
   ]
  },
  {
   "cell_type": "code",
   "execution_count": 78,
   "metadata": {},
   "outputs": [],
   "source": [
    "plt.rcParams['font.sans-serif'] = ['Microsoft JHenghei']\n",
    "plt.rcParams['axes.unicode_minus'] = False"
   ]
  },
  {
   "cell_type": "code",
   "execution_count": 79,
   "metadata": {},
   "outputs": [],
   "source": [
    "get = pickle.load(open('simulation_data/parameters_0.pkl','rb'))"
   ]
  },
  {
   "cell_type": "code",
   "execution_count": 80,
   "metadata": {},
   "outputs": [],
   "source": [
    "data = pd.read_csv('simulation_data/data_0.csv')"
   ]
  },
  {
   "cell_type": "code",
   "execution_count": 81,
   "metadata": {},
   "outputs": [],
   "source": [
    "X = data.iloc[:,:5]"
   ]
  },
  {
   "cell_type": "code",
   "execution_count": 82,
   "metadata": {},
   "outputs": [],
   "source": [
    "T_beta = get['beta']"
   ]
  },
  {
   "cell_type": "code",
   "execution_count": 83,
   "metadata": {},
   "outputs": [
    {
     "data": {
      "text/html": [
       "<div>\n",
       "<style scoped>\n",
       "    .dataframe tbody tr th:only-of-type {\n",
       "        vertical-align: middle;\n",
       "    }\n",
       "\n",
       "    .dataframe tbody tr th {\n",
       "        vertical-align: top;\n",
       "    }\n",
       "\n",
       "    .dataframe thead th {\n",
       "        text-align: right;\n",
       "    }\n",
       "</style>\n",
       "<table border=\"1\" class=\"dataframe\">\n",
       "  <thead>\n",
       "    <tr style=\"text-align: right;\">\n",
       "      <th></th>\n",
       "      <th>0</th>\n",
       "      <th>1</th>\n",
       "      <th>2</th>\n",
       "      <th>3</th>\n",
       "      <th>4</th>\n",
       "    </tr>\n",
       "  </thead>\n",
       "  <tbody>\n",
       "    <tr>\n",
       "      <td>0</td>\n",
       "      <td>0.111986</td>\n",
       "      <td>0.293229</td>\n",
       "      <td>-2.053905</td>\n",
       "      <td>0.544035</td>\n",
       "      <td>-0.932102</td>\n",
       "    </tr>\n",
       "    <tr>\n",
       "      <td>1</td>\n",
       "      <td>0.109656</td>\n",
       "      <td>0.304574</td>\n",
       "      <td>-2.053782</td>\n",
       "      <td>0.538046</td>\n",
       "      <td>-0.936184</td>\n",
       "    </tr>\n",
       "    <tr>\n",
       "      <td>2</td>\n",
       "      <td>0.123569</td>\n",
       "      <td>0.298280</td>\n",
       "      <td>-2.069446</td>\n",
       "      <td>0.547505</td>\n",
       "      <td>-0.936888</td>\n",
       "    </tr>\n",
       "    <tr>\n",
       "      <td>3</td>\n",
       "      <td>0.122132</td>\n",
       "      <td>0.309154</td>\n",
       "      <td>-2.058930</td>\n",
       "      <td>0.544892</td>\n",
       "      <td>-0.954317</td>\n",
       "    </tr>\n",
       "    <tr>\n",
       "      <td>4</td>\n",
       "      <td>0.106117</td>\n",
       "      <td>0.305763</td>\n",
       "      <td>-2.063343</td>\n",
       "      <td>0.552456</td>\n",
       "      <td>-0.938393</td>\n",
       "    </tr>\n",
       "    <tr>\n",
       "      <td>...</td>\n",
       "      <td>...</td>\n",
       "      <td>...</td>\n",
       "      <td>...</td>\n",
       "      <td>...</td>\n",
       "      <td>...</td>\n",
       "    </tr>\n",
       "    <tr>\n",
       "      <td>995</td>\n",
       "      <td>0.120913</td>\n",
       "      <td>0.311058</td>\n",
       "      <td>-2.066023</td>\n",
       "      <td>0.547940</td>\n",
       "      <td>-0.950504</td>\n",
       "    </tr>\n",
       "    <tr>\n",
       "      <td>996</td>\n",
       "      <td>0.104520</td>\n",
       "      <td>0.305510</td>\n",
       "      <td>-2.048310</td>\n",
       "      <td>0.548772</td>\n",
       "      <td>-0.948050</td>\n",
       "    </tr>\n",
       "    <tr>\n",
       "      <td>997</td>\n",
       "      <td>0.107400</td>\n",
       "      <td>0.307324</td>\n",
       "      <td>-2.050638</td>\n",
       "      <td>0.537718</td>\n",
       "      <td>-0.938971</td>\n",
       "    </tr>\n",
       "    <tr>\n",
       "      <td>998</td>\n",
       "      <td>0.110172</td>\n",
       "      <td>0.288824</td>\n",
       "      <td>-2.059910</td>\n",
       "      <td>0.555834</td>\n",
       "      <td>-0.932053</td>\n",
       "    </tr>\n",
       "    <tr>\n",
       "      <td>999</td>\n",
       "      <td>0.102188</td>\n",
       "      <td>0.294937</td>\n",
       "      <td>-2.060470</td>\n",
       "      <td>0.563480</td>\n",
       "      <td>-0.937515</td>\n",
       "    </tr>\n",
       "  </tbody>\n",
       "</table>\n",
       "<p>1000 rows × 5 columns</p>\n",
       "</div>"
      ],
      "text/plain": [
       "            0         1         2         3         4\n",
       "0    0.111986  0.293229 -2.053905  0.544035 -0.932102\n",
       "1    0.109656  0.304574 -2.053782  0.538046 -0.936184\n",
       "2    0.123569  0.298280 -2.069446  0.547505 -0.936888\n",
       "3    0.122132  0.309154 -2.058930  0.544892 -0.954317\n",
       "4    0.106117  0.305763 -2.063343  0.552456 -0.938393\n",
       "..        ...       ...       ...       ...       ...\n",
       "995  0.120913  0.311058 -2.066023  0.547940 -0.950504\n",
       "996  0.104520  0.305510 -2.048310  0.548772 -0.948050\n",
       "997  0.107400  0.307324 -2.050638  0.537718 -0.938971\n",
       "998  0.110172  0.288824 -2.059910  0.555834 -0.932053\n",
       "999  0.102188  0.294937 -2.060470  0.563480 -0.937515\n",
       "\n",
       "[1000 rows x 5 columns]"
      ]
     },
     "execution_count": 83,
     "metadata": {},
     "output_type": "execute_result"
    }
   ],
   "source": [
    "simu_beta = pd.read_csv('1000_times_beta.csv')\n",
    "simu_beta"
   ]
  },
  {
   "cell_type": "code",
   "execution_count": 84,
   "metadata": {},
   "outputs": [],
   "source": [
    "B = np.repeat(5,5)\n",
    "B = B.reshape(5,1)\n",
    "B = np.dot(B,B.T)\n",
    "\n",
    "B = B + np.eye(5)"
   ]
  },
  {
   "cell_type": "code",
   "execution_count": 87,
   "metadata": {},
   "outputs": [
    {
     "data": {
      "text/plain": [
       "array([ 0.09467958,  0.27820584, -2.07799018,  0.53026507, -0.96156416])"
      ]
     },
     "execution_count": 87,
     "metadata": {},
     "output_type": "execute_result"
    }
   ],
   "source": [
    "T_beta"
   ]
  },
  {
   "cell_type": "code",
   "execution_count": 88,
   "metadata": {},
   "outputs": [
    {
     "data": {
      "text/html": [
       "<div>\n",
       "<style scoped>\n",
       "    .dataframe tbody tr th:only-of-type {\n",
       "        vertical-align: middle;\n",
       "    }\n",
       "\n",
       "    .dataframe tbody tr th {\n",
       "        vertical-align: top;\n",
       "    }\n",
       "\n",
       "    .dataframe thead th {\n",
       "        text-align: right;\n",
       "    }\n",
       "</style>\n",
       "<table border=\"1\" class=\"dataframe\">\n",
       "  <thead>\n",
       "    <tr style=\"text-align: right;\">\n",
       "      <th></th>\n",
       "      <th>0</th>\n",
       "      <th>1</th>\n",
       "      <th>2</th>\n",
       "      <th>3</th>\n",
       "      <th>4</th>\n",
       "    </tr>\n",
       "  </thead>\n",
       "  <tbody>\n",
       "    <tr>\n",
       "      <td>0</td>\n",
       "      <td>0.017307</td>\n",
       "      <td>0.015023</td>\n",
       "      <td>0.024085</td>\n",
       "      <td>0.013770</td>\n",
       "      <td>0.029462</td>\n",
       "    </tr>\n",
       "    <tr>\n",
       "      <td>1</td>\n",
       "      <td>0.014976</td>\n",
       "      <td>0.026368</td>\n",
       "      <td>0.024208</td>\n",
       "      <td>0.007781</td>\n",
       "      <td>0.025380</td>\n",
       "    </tr>\n",
       "    <tr>\n",
       "      <td>2</td>\n",
       "      <td>0.028889</td>\n",
       "      <td>0.020074</td>\n",
       "      <td>0.008545</td>\n",
       "      <td>0.017240</td>\n",
       "      <td>0.024676</td>\n",
       "    </tr>\n",
       "    <tr>\n",
       "      <td>3</td>\n",
       "      <td>0.027452</td>\n",
       "      <td>0.030948</td>\n",
       "      <td>0.019060</td>\n",
       "      <td>0.014627</td>\n",
       "      <td>0.007247</td>\n",
       "    </tr>\n",
       "    <tr>\n",
       "      <td>4</td>\n",
       "      <td>0.011438</td>\n",
       "      <td>0.027557</td>\n",
       "      <td>0.014647</td>\n",
       "      <td>0.022191</td>\n",
       "      <td>0.023171</td>\n",
       "    </tr>\n",
       "    <tr>\n",
       "      <td>...</td>\n",
       "      <td>...</td>\n",
       "      <td>...</td>\n",
       "      <td>...</td>\n",
       "      <td>...</td>\n",
       "      <td>...</td>\n",
       "    </tr>\n",
       "    <tr>\n",
       "      <td>995</td>\n",
       "      <td>0.026234</td>\n",
       "      <td>0.032853</td>\n",
       "      <td>0.011968</td>\n",
       "      <td>0.017675</td>\n",
       "      <td>0.011060</td>\n",
       "    </tr>\n",
       "    <tr>\n",
       "      <td>996</td>\n",
       "      <td>0.009841</td>\n",
       "      <td>0.027304</td>\n",
       "      <td>0.029681</td>\n",
       "      <td>0.018507</td>\n",
       "      <td>0.013514</td>\n",
       "    </tr>\n",
       "    <tr>\n",
       "      <td>997</td>\n",
       "      <td>0.012721</td>\n",
       "      <td>0.029119</td>\n",
       "      <td>0.027352</td>\n",
       "      <td>0.007453</td>\n",
       "      <td>0.022593</td>\n",
       "    </tr>\n",
       "    <tr>\n",
       "      <td>998</td>\n",
       "      <td>0.015493</td>\n",
       "      <td>0.010618</td>\n",
       "      <td>0.018080</td>\n",
       "      <td>0.025569</td>\n",
       "      <td>0.029511</td>\n",
       "    </tr>\n",
       "    <tr>\n",
       "      <td>999</td>\n",
       "      <td>0.007508</td>\n",
       "      <td>0.016731</td>\n",
       "      <td>0.017520</td>\n",
       "      <td>0.033215</td>\n",
       "      <td>0.024049</td>\n",
       "    </tr>\n",
       "  </tbody>\n",
       "</table>\n",
       "<p>1000 rows × 5 columns</p>\n",
       "</div>"
      ],
      "text/plain": [
       "            0         1         2         3         4\n",
       "0    0.017307  0.015023  0.024085  0.013770  0.029462\n",
       "1    0.014976  0.026368  0.024208  0.007781  0.025380\n",
       "2    0.028889  0.020074  0.008545  0.017240  0.024676\n",
       "3    0.027452  0.030948  0.019060  0.014627  0.007247\n",
       "4    0.011438  0.027557  0.014647  0.022191  0.023171\n",
       "..        ...       ...       ...       ...       ...\n",
       "995  0.026234  0.032853  0.011968  0.017675  0.011060\n",
       "996  0.009841  0.027304  0.029681  0.018507  0.013514\n",
       "997  0.012721  0.029119  0.027352  0.007453  0.022593\n",
       "998  0.015493  0.010618  0.018080  0.025569  0.029511\n",
       "999  0.007508  0.016731  0.017520  0.033215  0.024049\n",
       "\n",
       "[1000 rows x 5 columns]"
      ]
     },
     "execution_count": 88,
     "metadata": {},
     "output_type": "execute_result"
    }
   ],
   "source": [
    "(simu_beta - T_beta)"
   ]
  },
  {
   "cell_type": "code",
   "execution_count": 89,
   "metadata": {},
   "outputs": [],
   "source": [
    "V = (simu_beta - T_beta)*np.sqrt(50000)"
   ]
  },
  {
   "cell_type": "code",
   "execution_count": 90,
   "metadata": {},
   "outputs": [
    {
     "data": {
      "text/html": [
       "<div>\n",
       "<style scoped>\n",
       "    .dataframe tbody tr th:only-of-type {\n",
       "        vertical-align: middle;\n",
       "    }\n",
       "\n",
       "    .dataframe tbody tr th {\n",
       "        vertical-align: top;\n",
       "    }\n",
       "\n",
       "    .dataframe thead th {\n",
       "        text-align: right;\n",
       "    }\n",
       "</style>\n",
       "<table border=\"1\" class=\"dataframe\">\n",
       "  <thead>\n",
       "    <tr style=\"text-align: right;\">\n",
       "      <th></th>\n",
       "      <th>0</th>\n",
       "      <th>1</th>\n",
       "      <th>2</th>\n",
       "      <th>3</th>\n",
       "      <th>4</th>\n",
       "    </tr>\n",
       "  </thead>\n",
       "  <tbody>\n",
       "    <tr>\n",
       "      <td>count</td>\n",
       "      <td>1000.000000</td>\n",
       "      <td>1000.000000</td>\n",
       "      <td>1000.000000</td>\n",
       "      <td>1000.000000</td>\n",
       "      <td>1000.000000</td>\n",
       "    </tr>\n",
       "    <tr>\n",
       "      <td>mean</td>\n",
       "      <td>3.883891</td>\n",
       "      <td>4.582120</td>\n",
       "      <td>4.277461</td>\n",
       "      <td>4.734206</td>\n",
       "      <td>4.698288</td>\n",
       "    </tr>\n",
       "    <tr>\n",
       "      <td>std</td>\n",
       "      <td>1.374158</td>\n",
       "      <td>1.411927</td>\n",
       "      <td>1.429553</td>\n",
       "      <td>1.357440</td>\n",
       "      <td>1.347720</td>\n",
       "    </tr>\n",
       "    <tr>\n",
       "      <td>min</td>\n",
       "      <td>-0.521867</td>\n",
       "      <td>-0.169036</td>\n",
       "      <td>0.148272</td>\n",
       "      <td>0.359070</td>\n",
       "      <td>0.852179</td>\n",
       "    </tr>\n",
       "    <tr>\n",
       "      <td>25%</td>\n",
       "      <td>2.995704</td>\n",
       "      <td>3.588694</td>\n",
       "      <td>3.343736</td>\n",
       "      <td>3.824917</td>\n",
       "      <td>3.814119</td>\n",
       "    </tr>\n",
       "    <tr>\n",
       "      <td>50%</td>\n",
       "      <td>3.921985</td>\n",
       "      <td>4.597749</td>\n",
       "      <td>4.261620</td>\n",
       "      <td>4.752853</td>\n",
       "      <td>4.695244</td>\n",
       "    </tr>\n",
       "    <tr>\n",
       "      <td>75%</td>\n",
       "      <td>4.800301</td>\n",
       "      <td>5.531957</td>\n",
       "      <td>5.252192</td>\n",
       "      <td>5.673846</td>\n",
       "      <td>5.617215</td>\n",
       "    </tr>\n",
       "    <tr>\n",
       "      <td>max</td>\n",
       "      <td>7.426296</td>\n",
       "      <td>9.471273</td>\n",
       "      <td>9.044785</td>\n",
       "      <td>9.164196</td>\n",
       "      <td>8.872594</td>\n",
       "    </tr>\n",
       "  </tbody>\n",
       "</table>\n",
       "</div>"
      ],
      "text/plain": [
       "                 0            1            2            3            4\n",
       "count  1000.000000  1000.000000  1000.000000  1000.000000  1000.000000\n",
       "mean      3.883891     4.582120     4.277461     4.734206     4.698288\n",
       "std       1.374158     1.411927     1.429553     1.357440     1.347720\n",
       "min      -0.521867    -0.169036     0.148272     0.359070     0.852179\n",
       "25%       2.995704     3.588694     3.343736     3.824917     3.814119\n",
       "50%       3.921985     4.597749     4.261620     4.752853     4.695244\n",
       "75%       4.800301     5.531957     5.252192     5.673846     5.617215\n",
       "max       7.426296     9.471273     9.044785     9.164196     8.872594"
      ]
     },
     "execution_count": 90,
     "metadata": {},
     "output_type": "execute_result"
    }
   ],
   "source": [
    "V.describe()"
   ]
  },
  {
   "cell_type": "code",
   "execution_count": 92,
   "metadata": {
    "scrolled": true
   },
   "outputs": [
    {
     "data": {
      "text/html": [
       "<div>\n",
       "<style scoped>\n",
       "    .dataframe tbody tr th:only-of-type {\n",
       "        vertical-align: middle;\n",
       "    }\n",
       "\n",
       "    .dataframe tbody tr th {\n",
       "        vertical-align: top;\n",
       "    }\n",
       "\n",
       "    .dataframe thead th {\n",
       "        text-align: right;\n",
       "    }\n",
       "</style>\n",
       "<table border=\"1\" class=\"dataframe\">\n",
       "  <thead>\n",
       "    <tr style=\"text-align: right;\">\n",
       "      <th></th>\n",
       "      <th>0</th>\n",
       "      <th>1</th>\n",
       "      <th>2</th>\n",
       "      <th>3</th>\n",
       "      <th>4</th>\n",
       "    </tr>\n",
       "  </thead>\n",
       "  <tbody>\n",
       "    <tr>\n",
       "      <td>0</td>\n",
       "      <td>0.072627</td>\n",
       "      <td>-0.019299</td>\n",
       "      <td>-0.020514</td>\n",
       "      <td>-0.020471</td>\n",
       "      <td>-0.015120</td>\n",
       "    </tr>\n",
       "    <tr>\n",
       "      <td>1</td>\n",
       "      <td>-0.019299</td>\n",
       "      <td>0.076675</td>\n",
       "      <td>-0.021618</td>\n",
       "      <td>-0.018552</td>\n",
       "      <td>-0.020300</td>\n",
       "    </tr>\n",
       "    <tr>\n",
       "      <td>2</td>\n",
       "      <td>-0.020514</td>\n",
       "      <td>-0.021618</td>\n",
       "      <td>0.078601</td>\n",
       "      <td>-0.018564</td>\n",
       "      <td>-0.021224</td>\n",
       "    </tr>\n",
       "    <tr>\n",
       "      <td>3</td>\n",
       "      <td>-0.020471</td>\n",
       "      <td>-0.018552</td>\n",
       "      <td>-0.018564</td>\n",
       "      <td>0.070871</td>\n",
       "      <td>-0.015919</td>\n",
       "    </tr>\n",
       "    <tr>\n",
       "      <td>4</td>\n",
       "      <td>-0.015120</td>\n",
       "      <td>-0.020300</td>\n",
       "      <td>-0.021224</td>\n",
       "      <td>-0.015919</td>\n",
       "      <td>0.069860</td>\n",
       "    </tr>\n",
       "  </tbody>\n",
       "</table>\n",
       "</div>"
      ],
      "text/plain": [
       "          0         1         2         3         4\n",
       "0  0.072627 -0.019299 -0.020514 -0.020471 -0.015120\n",
       "1 -0.019299  0.076675 -0.021618 -0.018552 -0.020300\n",
       "2 -0.020514 -0.021618  0.078601 -0.018564 -0.021224\n",
       "3 -0.020471 -0.018552 -0.018564  0.070871 -0.015919\n",
       "4 -0.015120 -0.020300 -0.021224 -0.015919  0.069860"
      ]
     },
     "execution_count": 92,
     "metadata": {},
     "output_type": "execute_result"
    }
   ],
   "source": [
    "V.cov()"
   ]
  },
  {
   "cell_type": "code",
   "execution_count": 94,
   "metadata": {},
   "outputs": [
    {
     "data": {
      "text/plain": [
       "array([[ 0.8015873, -0.1984127, -0.1984127, -0.1984127, -0.1984127],\n",
       "       [-0.1984127,  0.8015873, -0.1984127, -0.1984127, -0.1984127],\n",
       "       [-0.1984127, -0.1984127,  0.8015873, -0.1984127, -0.1984127],\n",
       "       [-0.1984127, -0.1984127, -0.1984127,  0.8015873, -0.1984127],\n",
       "       [-0.1984127, -0.1984127, -0.1984127, -0.1984127,  0.8015873]])"
      ]
     },
     "execution_count": 94,
     "metadata": {},
     "output_type": "execute_result"
    }
   ],
   "source": [
    "np.linalg.inv(B)"
   ]
  },
  {
   "cell_type": "code",
   "execution_count": 17,
   "metadata": {},
   "outputs": [
    {
     "data": {
      "text/plain": [
       "(array([  6.,  32.,  92., 184., 248., 220., 127.,  73.,  14.,   4.]),\n",
       " array([-182.63645369, -143.81919297, -105.00193225,  -66.18467153,\n",
       "         -27.36741081,   11.44984991,   50.26711063,   89.08437135,\n",
       "         127.90163207,  166.7188928 ,  205.53615352]),\n",
       " <a list of 10 Patch objects>)"
      ]
     },
     "execution_count": 17,
     "metadata": {},
     "output_type": "execute_result"
    },
    {
     "data": {
      "image/png": "[encoded data removed]",
      "text/plain": [
       "<Figure size 432x288 with 1 Axes>"
      ]
     },
     "metadata": {
      "needs_background": "light"
     },
     "output_type": "display_data"
    }
   ],
   "source": [
    "plt.hist(V.iloc[:,0])"
   ]
  },
  {
   "cell_type": "code",
   "execution_count": null,
   "metadata": {},
   "outputs": [],
   "source": []
  },
  {
   "cell_type": "code",
   "execution_count": null,
   "metadata": {},
   "outputs": [],
   "source": []
  }
 ],
 "metadata": {
  "kernelspec": {
   "display_name": "Python 3",
   "language": "python",
   "name": "python3"
  },
  "language_info": {
   "codemirror_mode": {
    "name": "ipython",
    "version": 3
   },
   "file_extension": ".py",
   "mimetype": "text/x-python",
   "name": "python",
   "nbconvert_exporter": "python",
   "pygments_lexer": "ipython3",
   "version": "3.7.3"
  },
  "toc": {
   "base_numbering": 1,
   "nav_menu": {},
   "number_sections": true,
   "sideBar": true,
   "skip_h1_title": false,
   "title_cell": "Table of Contents",
   "title_sidebar": "Contents",
   "toc_cell": false,
   "toc_position": {},
   "toc_section_display": true,
   "toc_window_display": false
  }
 },
 "nbformat": 4,
 "nbformat_minor": 2
}
