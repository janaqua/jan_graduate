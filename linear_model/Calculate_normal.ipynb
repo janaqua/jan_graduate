{
 "cells": [
  {
   "cell_type": "code",
   "execution_count": 1,
   "metadata": {},
   "outputs": [],
   "source": [
    "import pandas as pd\n",
    "import numpy as np \n",
    "import pickle \n",
    "import matplotlib.pyplot as plt\n",
    "%matplotlib inline"
   ]
  },
  {
   "cell_type": "code",
   "execution_count": 2,
   "metadata": {},
   "outputs": [],
   "source": [
    "plt.rcParams['font.sans-serif'] = ['Microsoft JHenghei']\n",
    "plt.rcParams['axes.unicode_minus'] = False"
   ]
  },
  {
   "cell_type": "code",
   "execution_count": 3,
   "metadata": {},
   "outputs": [],
   "source": [
    "get = pickle.load(open('simulation_data/parameters_0.pkl','rb'))"
   ]
  },
  {
   "cell_type": "code",
   "execution_count": 4,
   "metadata": {},
   "outputs": [],
   "source": [
    "data = pd.read_csv('simulation_data/data_0.csv')"
   ]
  },
  {
   "cell_type": "code",
   "execution_count": 5,
   "metadata": {},
   "outputs": [],
   "source": [
    "X = data.iloc[:,:5]"
   ]
  },
  {
   "cell_type": "code",
   "execution_count": 6,
   "metadata": {},
   "outputs": [],
   "source": [
    "T_beta = get['beta']"
   ]
  },
  {
   "cell_type": "code",
   "execution_count": 7,
   "metadata": {},
   "outputs": [
    {
     "data": {
      "text/html": [
       "<div>\n",
       "<style scoped>\n",
       "    .dataframe tbody tr th:only-of-type {\n",
       "        vertical-align: middle;\n",
       "    }\n",
       "\n",
       "    .dataframe tbody tr th {\n",
       "        vertical-align: top;\n",
       "    }\n",
       "\n",
       "    .dataframe thead th {\n",
       "        text-align: right;\n",
       "    }\n",
       "</style>\n",
       "<table border=\"1\" class=\"dataframe\">\n",
       "  <thead>\n",
       "    <tr style=\"text-align: right;\">\n",
       "      <th></th>\n",
       "      <th>0</th>\n",
       "      <th>1</th>\n",
       "      <th>2</th>\n",
       "      <th>3</th>\n",
       "      <th>4</th>\n",
       "    </tr>\n",
       "  </thead>\n",
       "  <tbody>\n",
       "    <tr>\n",
       "      <td>0</td>\n",
       "      <td>0.113609</td>\n",
       "      <td>0.258837</td>\n",
       "      <td>-2.011771</td>\n",
       "      <td>0.550795</td>\n",
       "      <td>-0.947591</td>\n",
       "    </tr>\n",
       "    <tr>\n",
       "      <td>1</td>\n",
       "      <td>0.087067</td>\n",
       "      <td>0.275175</td>\n",
       "      <td>-2.033782</td>\n",
       "      <td>0.561976</td>\n",
       "      <td>-0.927727</td>\n",
       "    </tr>\n",
       "    <tr>\n",
       "      <td>2</td>\n",
       "      <td>0.085115</td>\n",
       "      <td>0.281885</td>\n",
       "      <td>-2.014799</td>\n",
       "      <td>0.551407</td>\n",
       "      <td>-0.939983</td>\n",
       "    </tr>\n",
       "    <tr>\n",
       "      <td>3</td>\n",
       "      <td>0.105462</td>\n",
       "      <td>0.266751</td>\n",
       "      <td>-2.028268</td>\n",
       "      <td>0.560287</td>\n",
       "      <td>-0.941265</td>\n",
       "    </tr>\n",
       "    <tr>\n",
       "      <td>4</td>\n",
       "      <td>0.095538</td>\n",
       "      <td>0.331232</td>\n",
       "      <td>-2.041432</td>\n",
       "      <td>0.526267</td>\n",
       "      <td>-0.948511</td>\n",
       "    </tr>\n",
       "    <tr>\n",
       "      <td>...</td>\n",
       "      <td>...</td>\n",
       "      <td>...</td>\n",
       "      <td>...</td>\n",
       "      <td>...</td>\n",
       "      <td>...</td>\n",
       "    </tr>\n",
       "    <tr>\n",
       "      <td>995</td>\n",
       "      <td>0.059735</td>\n",
       "      <td>0.324237</td>\n",
       "      <td>-2.003103</td>\n",
       "      <td>0.531372</td>\n",
       "      <td>-0.949009</td>\n",
       "    </tr>\n",
       "    <tr>\n",
       "      <td>996</td>\n",
       "      <td>0.066096</td>\n",
       "      <td>0.276824</td>\n",
       "      <td>-2.037593</td>\n",
       "      <td>0.558110</td>\n",
       "      <td>-0.899351</td>\n",
       "    </tr>\n",
       "    <tr>\n",
       "      <td>997</td>\n",
       "      <td>0.108072</td>\n",
       "      <td>0.326746</td>\n",
       "      <td>-2.056757</td>\n",
       "      <td>0.532892</td>\n",
       "      <td>-0.947813</td>\n",
       "    </tr>\n",
       "    <tr>\n",
       "      <td>998</td>\n",
       "      <td>0.095561</td>\n",
       "      <td>0.285598</td>\n",
       "      <td>-2.034967</td>\n",
       "      <td>0.536728</td>\n",
       "      <td>-0.920497</td>\n",
       "    </tr>\n",
       "    <tr>\n",
       "      <td>999</td>\n",
       "      <td>0.098609</td>\n",
       "      <td>0.283969</td>\n",
       "      <td>-2.046127</td>\n",
       "      <td>0.560278</td>\n",
       "      <td>-0.933900</td>\n",
       "    </tr>\n",
       "  </tbody>\n",
       "</table>\n",
       "<p>1000 rows × 5 columns</p>\n",
       "</div>"
      ],
      "text/plain": [
       "            0         1         2         3         4\n",
       "0    0.113609  0.258837 -2.011771  0.550795 -0.947591\n",
       "1    0.087067  0.275175 -2.033782  0.561976 -0.927727\n",
       "2    0.085115  0.281885 -2.014799  0.551407 -0.939983\n",
       "3    0.105462  0.266751 -2.028268  0.560287 -0.941265\n",
       "4    0.095538  0.331232 -2.041432  0.526267 -0.948511\n",
       "..        ...       ...       ...       ...       ...\n",
       "995  0.059735  0.324237 -2.003103  0.531372 -0.949009\n",
       "996  0.066096  0.276824 -2.037593  0.558110 -0.899351\n",
       "997  0.108072  0.326746 -2.056757  0.532892 -0.947813\n",
       "998  0.095561  0.285598 -2.034967  0.536728 -0.920497\n",
       "999  0.098609  0.283969 -2.046127  0.560278 -0.933900\n",
       "\n",
       "[1000 rows x 5 columns]"
      ]
     },
     "execution_count": 7,
     "metadata": {},
     "output_type": "execute_result"
    }
   ],
   "source": [
    "simu_beta = pd.read_csv('1000_times_beta.csv')\n",
    "simu_beta"
   ]
  },
  {
   "cell_type": "code",
   "execution_count": 8,
   "metadata": {},
   "outputs": [],
   "source": [
    "B = np.repeat(5,5)\n",
    "B = B.reshape(5,1)\n",
    "B = np.dot(B,B.T)\n",
    "\n",
    "B = B + np.eye(5)"
   ]
  },
  {
   "cell_type": "code",
   "execution_count": 9,
   "metadata": {},
   "outputs": [
    {
     "data": {
      "text/plain": [
       "array([[26., 25., 25., 25., 25.],\n",
       "       [25., 26., 25., 25., 25.],\n",
       "       [25., 25., 26., 25., 25.],\n",
       "       [25., 25., 25., 26., 25.],\n",
       "       [25., 25., 25., 25., 26.]])"
      ]
     },
     "execution_count": 9,
     "metadata": {},
     "output_type": "execute_result"
    }
   ],
   "source": [
    "B"
   ]
  },
  {
   "cell_type": "code",
   "execution_count": 10,
   "metadata": {},
   "outputs": [
    {
     "data": {
      "text/plain": [
       "array([ 0.09467958,  0.27820584, -2.07799018,  0.53026507, -0.96156416])"
      ]
     },
     "execution_count": 10,
     "metadata": {},
     "output_type": "execute_result"
    }
   ],
   "source": [
    "T_beta"
   ]
  },
  {
   "cell_type": "code",
   "execution_count": 11,
   "metadata": {},
   "outputs": [
    {
     "data": {
      "text/html": [
       "<div>\n",
       "<style scoped>\n",
       "    .dataframe tbody tr th:only-of-type {\n",
       "        vertical-align: middle;\n",
       "    }\n",
       "\n",
       "    .dataframe tbody tr th {\n",
       "        vertical-align: top;\n",
       "    }\n",
       "\n",
       "    .dataframe thead th {\n",
       "        text-align: right;\n",
       "    }\n",
       "</style>\n",
       "<table border=\"1\" class=\"dataframe\">\n",
       "  <thead>\n",
       "    <tr style=\"text-align: right;\">\n",
       "      <th></th>\n",
       "      <th>0</th>\n",
       "      <th>1</th>\n",
       "      <th>2</th>\n",
       "      <th>3</th>\n",
       "      <th>4</th>\n",
       "    </tr>\n",
       "  </thead>\n",
       "  <tbody>\n",
       "    <tr>\n",
       "      <td>0</td>\n",
       "      <td>0.018930</td>\n",
       "      <td>-0.019369</td>\n",
       "      <td>0.066219</td>\n",
       "      <td>0.020530</td>\n",
       "      <td>0.013974</td>\n",
       "    </tr>\n",
       "    <tr>\n",
       "      <td>1</td>\n",
       "      <td>-0.007613</td>\n",
       "      <td>-0.003030</td>\n",
       "      <td>0.044209</td>\n",
       "      <td>0.031711</td>\n",
       "      <td>0.033837</td>\n",
       "    </tr>\n",
       "    <tr>\n",
       "      <td>2</td>\n",
       "      <td>-0.009564</td>\n",
       "      <td>0.003680</td>\n",
       "      <td>0.063191</td>\n",
       "      <td>0.021142</td>\n",
       "      <td>0.021581</td>\n",
       "    </tr>\n",
       "    <tr>\n",
       "      <td>3</td>\n",
       "      <td>0.010782</td>\n",
       "      <td>-0.011455</td>\n",
       "      <td>0.049722</td>\n",
       "      <td>0.030021</td>\n",
       "      <td>0.020299</td>\n",
       "    </tr>\n",
       "    <tr>\n",
       "      <td>4</td>\n",
       "      <td>0.000859</td>\n",
       "      <td>0.053026</td>\n",
       "      <td>0.036558</td>\n",
       "      <td>-0.003998</td>\n",
       "      <td>0.013053</td>\n",
       "    </tr>\n",
       "    <tr>\n",
       "      <td>...</td>\n",
       "      <td>...</td>\n",
       "      <td>...</td>\n",
       "      <td>...</td>\n",
       "      <td>...</td>\n",
       "      <td>...</td>\n",
       "    </tr>\n",
       "    <tr>\n",
       "      <td>995</td>\n",
       "      <td>-0.034945</td>\n",
       "      <td>0.046031</td>\n",
       "      <td>0.074887</td>\n",
       "      <td>0.001107</td>\n",
       "      <td>0.012555</td>\n",
       "    </tr>\n",
       "    <tr>\n",
       "      <td>996</td>\n",
       "      <td>-0.028584</td>\n",
       "      <td>-0.001381</td>\n",
       "      <td>0.040398</td>\n",
       "      <td>0.027845</td>\n",
       "      <td>0.062214</td>\n",
       "    </tr>\n",
       "    <tr>\n",
       "      <td>997</td>\n",
       "      <td>0.013392</td>\n",
       "      <td>0.048540</td>\n",
       "      <td>0.021233</td>\n",
       "      <td>0.002627</td>\n",
       "      <td>0.013751</td>\n",
       "    </tr>\n",
       "    <tr>\n",
       "      <td>998</td>\n",
       "      <td>0.000881</td>\n",
       "      <td>0.007393</td>\n",
       "      <td>0.043023</td>\n",
       "      <td>0.006463</td>\n",
       "      <td>0.041068</td>\n",
       "    </tr>\n",
       "    <tr>\n",
       "      <td>999</td>\n",
       "      <td>0.003929</td>\n",
       "      <td>0.005763</td>\n",
       "      <td>0.031863</td>\n",
       "      <td>0.030013</td>\n",
       "      <td>0.027664</td>\n",
       "    </tr>\n",
       "  </tbody>\n",
       "</table>\n",
       "<p>1000 rows × 5 columns</p>\n",
       "</div>"
      ],
      "text/plain": [
       "            0         1         2         3         4\n",
       "0    0.018930 -0.019369  0.066219  0.020530  0.013974\n",
       "1   -0.007613 -0.003030  0.044209  0.031711  0.033837\n",
       "2   -0.009564  0.003680  0.063191  0.021142  0.021581\n",
       "3    0.010782 -0.011455  0.049722  0.030021  0.020299\n",
       "4    0.000859  0.053026  0.036558 -0.003998  0.013053\n",
       "..        ...       ...       ...       ...       ...\n",
       "995 -0.034945  0.046031  0.074887  0.001107  0.012555\n",
       "996 -0.028584 -0.001381  0.040398  0.027845  0.062214\n",
       "997  0.013392  0.048540  0.021233  0.002627  0.013751\n",
       "998  0.000881  0.007393  0.043023  0.006463  0.041068\n",
       "999  0.003929  0.005763  0.031863  0.030013  0.027664\n",
       "\n",
       "[1000 rows x 5 columns]"
      ]
     },
     "execution_count": 11,
     "metadata": {},
     "output_type": "execute_result"
    }
   ],
   "source": [
    "(simu_beta - T_beta)"
   ]
  },
  {
   "cell_type": "code",
   "execution_count": 12,
   "metadata": {},
   "outputs": [],
   "source": [
    "V = (simu_beta - T_beta)*np.sqrt(50000)"
   ]
  },
  {
   "cell_type": "code",
   "execution_count": 13,
   "metadata": {},
   "outputs": [
    {
     "data": {
      "text/html": [
       "<div>\n",
       "<style scoped>\n",
       "    .dataframe tbody tr th:only-of-type {\n",
       "        vertical-align: middle;\n",
       "    }\n",
       "\n",
       "    .dataframe tbody tr th {\n",
       "        vertical-align: top;\n",
       "    }\n",
       "\n",
       "    .dataframe thead th {\n",
       "        text-align: right;\n",
       "    }\n",
       "</style>\n",
       "<table border=\"1\" class=\"dataframe\">\n",
       "  <thead>\n",
       "    <tr style=\"text-align: right;\">\n",
       "      <th></th>\n",
       "      <th>0</th>\n",
       "      <th>1</th>\n",
       "      <th>2</th>\n",
       "      <th>3</th>\n",
       "      <th>4</th>\n",
       "    </tr>\n",
       "  </thead>\n",
       "  <tbody>\n",
       "    <tr>\n",
       "      <td>count</td>\n",
       "      <td>1000.000000</td>\n",
       "      <td>1000.000000</td>\n",
       "      <td>1000.000000</td>\n",
       "      <td>1000.000000</td>\n",
       "      <td>1000.000000</td>\n",
       "    </tr>\n",
       "    <tr>\n",
       "      <td>mean</td>\n",
       "      <td>1.697788</td>\n",
       "      <td>1.842149</td>\n",
       "      <td>10.913407</td>\n",
       "      <td>1.075208</td>\n",
       "      <td>6.710048</td>\n",
       "    </tr>\n",
       "    <tr>\n",
       "      <td>std</td>\n",
       "      <td>4.100544</td>\n",
       "      <td>4.048841</td>\n",
       "      <td>3.999101</td>\n",
       "      <td>4.187275</td>\n",
       "      <td>4.086293</td>\n",
       "    </tr>\n",
       "    <tr>\n",
       "      <td>min</td>\n",
       "      <td>-10.283260</td>\n",
       "      <td>-9.381013</td>\n",
       "      <td>-0.275892</td>\n",
       "      <td>-13.361404</td>\n",
       "      <td>-4.993551</td>\n",
       "    </tr>\n",
       "    <tr>\n",
       "      <td>25%</td>\n",
       "      <td>-1.097081</td>\n",
       "      <td>-0.941946</td>\n",
       "      <td>8.268191</td>\n",
       "      <td>-1.588668</td>\n",
       "      <td>3.881262</td>\n",
       "    </tr>\n",
       "    <tr>\n",
       "      <td>50%</td>\n",
       "      <td>1.520041</td>\n",
       "      <td>1.950530</td>\n",
       "      <td>10.932491</td>\n",
       "      <td>1.162952</td>\n",
       "      <td>6.786251</td>\n",
       "    </tr>\n",
       "    <tr>\n",
       "      <td>75%</td>\n",
       "      <td>4.566904</td>\n",
       "      <td>4.552167</td>\n",
       "      <td>13.670146</td>\n",
       "      <td>3.888513</td>\n",
       "      <td>9.541076</td>\n",
       "    </tr>\n",
       "    <tr>\n",
       "      <td>max</td>\n",
       "      <td>13.522220</td>\n",
       "      <td>13.580041</td>\n",
       "      <td>22.668327</td>\n",
       "      <td>13.166853</td>\n",
       "      <td>20.436300</td>\n",
       "    </tr>\n",
       "  </tbody>\n",
       "</table>\n",
       "</div>"
      ],
      "text/plain": [
       "                 0            1            2            3            4\n",
       "count  1000.000000  1000.000000  1000.000000  1000.000000  1000.000000\n",
       "mean      1.697788     1.842149    10.913407     1.075208     6.710048\n",
       "std       4.100544     4.048841     3.999101     4.187275     4.086293\n",
       "min     -10.283260    -9.381013    -0.275892   -13.361404    -4.993551\n",
       "25%      -1.097081    -0.941946     8.268191    -1.588668     3.881262\n",
       "50%       1.520041     1.950530    10.932491     1.162952     6.786251\n",
       "75%       4.566904     4.552167    13.670146     3.888513     9.541076\n",
       "max      13.522220    13.580041    22.668327    13.166853    20.436300"
      ]
     },
     "execution_count": 13,
     "metadata": {},
     "output_type": "execute_result"
    }
   ],
   "source": [
    "V.describe()"
   ]
  },
  {
   "cell_type": "code",
   "execution_count": 14,
   "metadata": {
    "scrolled": true
   },
   "outputs": [
    {
     "data": {
      "text/html": [
       "<div>\n",
       "<style scoped>\n",
       "    .dataframe tbody tr th:only-of-type {\n",
       "        vertical-align: middle;\n",
       "    }\n",
       "\n",
       "    .dataframe tbody tr th {\n",
       "        vertical-align: top;\n",
       "    }\n",
       "\n",
       "    .dataframe thead th {\n",
       "        text-align: right;\n",
       "    }\n",
       "</style>\n",
       "<table border=\"1\" class=\"dataframe\">\n",
       "  <thead>\n",
       "    <tr style=\"text-align: right;\">\n",
       "      <th></th>\n",
       "      <th>0</th>\n",
       "      <th>1</th>\n",
       "      <th>2</th>\n",
       "      <th>3</th>\n",
       "      <th>4</th>\n",
       "    </tr>\n",
       "  </thead>\n",
       "  <tbody>\n",
       "    <tr>\n",
       "      <td>0</td>\n",
       "      <td>16.814458</td>\n",
       "      <td>-3.621806</td>\n",
       "      <td>-3.865386</td>\n",
       "      <td>-4.336637</td>\n",
       "      <td>-4.979729</td>\n",
       "    </tr>\n",
       "    <tr>\n",
       "      <td>1</td>\n",
       "      <td>-3.621806</td>\n",
       "      <td>16.393116</td>\n",
       "      <td>-4.611862</td>\n",
       "      <td>-4.515419</td>\n",
       "      <td>-3.672842</td>\n",
       "    </tr>\n",
       "    <tr>\n",
       "      <td>2</td>\n",
       "      <td>-3.865386</td>\n",
       "      <td>-4.611862</td>\n",
       "      <td>15.992807</td>\n",
       "      <td>-4.091299</td>\n",
       "      <td>-3.438462</td>\n",
       "    </tr>\n",
       "    <tr>\n",
       "      <td>3</td>\n",
       "      <td>-4.336637</td>\n",
       "      <td>-4.515419</td>\n",
       "      <td>-4.091299</td>\n",
       "      <td>17.533271</td>\n",
       "      <td>-4.577788</td>\n",
       "    </tr>\n",
       "    <tr>\n",
       "      <td>4</td>\n",
       "      <td>-4.979729</td>\n",
       "      <td>-3.672842</td>\n",
       "      <td>-3.438462</td>\n",
       "      <td>-4.577788</td>\n",
       "      <td>16.697793</td>\n",
       "    </tr>\n",
       "  </tbody>\n",
       "</table>\n",
       "</div>"
      ],
      "text/plain": [
       "           0          1          2          3          4\n",
       "0  16.814458  -3.621806  -3.865386  -4.336637  -4.979729\n",
       "1  -3.621806  16.393116  -4.611862  -4.515419  -3.672842\n",
       "2  -3.865386  -4.611862  15.992807  -4.091299  -3.438462\n",
       "3  -4.336637  -4.515419  -4.091299  17.533271  -4.577788\n",
       "4  -4.979729  -3.672842  -3.438462  -4.577788  16.697793"
      ]
     },
     "execution_count": 14,
     "metadata": {},
     "output_type": "execute_result"
    }
   ],
   "source": [
    "V.cov()"
   ]
  },
  {
   "cell_type": "code",
   "execution_count": 15,
   "metadata": {},
   "outputs": [
    {
     "data": {
      "text/plain": [
       "array([[ 0.8015873, -0.1984127, -0.1984127, -0.1984127, -0.1984127],\n",
       "       [-0.1984127,  0.8015873, -0.1984127, -0.1984127, -0.1984127],\n",
       "       [-0.1984127, -0.1984127,  0.8015873, -0.1984127, -0.1984127],\n",
       "       [-0.1984127, -0.1984127, -0.1984127,  0.8015873, -0.1984127],\n",
       "       [-0.1984127, -0.1984127, -0.1984127, -0.1984127,  0.8015873]])"
      ]
     },
     "execution_count": 15,
     "metadata": {},
     "output_type": "execute_result"
    }
   ],
   "source": [
    "np.linalg.inv(B)"
   ]
  },
  {
   "cell_type": "code",
   "execution_count": null,
   "metadata": {},
   "outputs": [],
   "source": []
  },
  {
   "cell_type": "code",
   "execution_count": null,
   "metadata": {},
   "outputs": [],
   "source": []
  }
 ],
 "metadata": {
  "kernelspec": {
   "display_name": "Python 3",
   "language": "python",
   "name": "python3"
  },
  "language_info": {
   "codemirror_mode": {
    "name": "ipython",
    "version": 3
   },
   "file_extension": ".py",
   "mimetype": "text/x-python",
   "name": "python",
   "nbconvert_exporter": "python",
   "pygments_lexer": "ipython3",
   "version": "3.7.3"
  },
  "toc": {
   "base_numbering": 1,
   "nav_menu": {},
   "number_sections": true,
   "sideBar": true,
   "skip_h1_title": false,
   "title_cell": "Table of Contents",
   "title_sidebar": "Contents",
   "toc_cell": false,
   "toc_position": {},
   "toc_section_display": true,
   "toc_window_display": false
  }
 },
 "nbformat": 4,
 "nbformat_minor": 2
}
