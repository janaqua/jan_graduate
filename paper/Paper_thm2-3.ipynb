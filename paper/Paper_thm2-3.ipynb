{
 "cells": [
  {
   "cell_type": "code",
   "execution_count": 1,
   "metadata": {},
   "outputs": [],
   "source": [
    "import numpy as np\n",
    "import pandas as pd\n",
    "\n",
    "from tqdm import tqdm_notebook"
   ]
  },
  {
   "cell_type": "markdown",
   "metadata": {},
   "source": [
    "# 同樣一組data 抽樣sgd"
   ]
  },
  {
   "cell_type": "code",
   "execution_count": 2,
   "metadata": {},
   "outputs": [],
   "source": [
    "class SGD_ASGD_linear():\n",
    "    \n",
    "    def train(self,epoch,n,dim,lr,alpha,param_fix=True):\n",
    "        \n",
    "        if param_fix:\n",
    "            np.random.seed(2021)\n",
    "            self.true_theta = np.random.randn(dim)\n",
    "            np.random.seed()\n",
    "        else:\n",
    "            self.true_theta = np.random.randn(dim)\n",
    "        \n",
    "        self.x = np.random.normal(loc=5,scale=1,size=(n,dim))\n",
    "        self.y = np.dot(self.x,self.true_theta)+np.random.randn()\n",
    "        \n",
    "        self.SGD = list()\n",
    "        self.ASGD = list()\n",
    "        \n",
    "        \n",
    "        for m in tqdm_notebook(range(epoch)):\n",
    "            \n",
    "            self.theta_hat =[]\n",
    "            theta_hat = np.random.randn(len(self.true_theta))\n",
    "            \n",
    "            sample = np.random.choice(a=range(n),size=n,replace=True)\n",
    "            \n",
    "            count = 0\n",
    "            for i in sample:    \n",
    "                \n",
    "                lr_now = lr*pow(count+1,-alpha)\n",
    "\n",
    "                coef = np.linalg.inv(np.eye(dim)+lr_now*np.dot(self.x[i].reshape(dim,-1),self.x[i].reshape(-1,dim)))\n",
    "\n",
    "                theta_hat = np.dot(coef,theta_hat) + np.dot(coef,lr_now*self.y[i]*self.x[i])\n",
    "\n",
    "                self.theta_hat.append(theta_hat)\n",
    "                count += 1\n",
    "\n",
    "            self.SGD.append(self.theta_hat[-1])\n",
    "            self.ASGD.append(np.mean(self.theta_hat,axis=0))\n",
    "            \n",
    "            "
   ]
  },
  {
   "cell_type": "code",
   "execution_count": 3,
   "metadata": {},
   "outputs": [],
   "source": [
    "n = 10000\n",
    "dim = 5\n",
    "lr = 10\n",
    "alpha = 0.6\n",
    "epoch = 100"
   ]
  },
  {
   "cell_type": "code",
   "execution_count": 4,
   "metadata": {
    "scrolled": true
   },
   "outputs": [
    {
     "data": {
      "application/vnd.jupyter.widget-view+json": {
       "model_id": "7f13ffa98d08436fb933dfa270071905",
       "version_major": 2,
       "version_minor": 0
      },
      "text/plain": [
       "HBox(children=(IntProgress(value=0), HTML(value='')))"
      ]
     },
     "metadata": {},
     "output_type": "display_data"
    },
    {
     "name": "stdout",
     "output_type": "stream",
     "text": [
      "\n"
     ]
    }
   ],
   "source": [
    "result = SGD_ASGD_linear()\n",
    "result.train(epoch,n,dim,lr,alpha)"
   ]
  },
  {
   "cell_type": "code",
   "execution_count": 5,
   "metadata": {
    "scrolled": true
   },
   "outputs": [
    {
     "data": {
      "text/plain": [
       "array([ 1.48860905,  0.67601087, -0.41845137, -0.80652081,  0.55587583])"
      ]
     },
     "execution_count": 5,
     "metadata": {},
     "output_type": "execute_result"
    }
   ],
   "source": [
    "result.true_theta"
   ]
  },
  {
   "cell_type": "code",
   "execution_count": 6,
   "metadata": {
    "scrolled": true
   },
   "outputs": [
    {
     "data": {
      "text/plain": [
       "[array([ 1.50840873,  0.71366873, -0.37015176, -0.75002101,  0.58731004]),\n",
       " array([ 1.52182076,  0.68775614, -0.37688513, -0.73702364,  0.5939539 ]),\n",
       " array([ 1.52429689,  0.72406102, -0.37995494, -0.74021023,  0.56055439]),\n",
       " array([ 1.51873239,  0.70855736, -0.38297892, -0.74472753,  0.5894121 ]),\n",
       " array([ 1.51712947,  0.71965358, -0.36872761, -0.78331876,  0.60433908]),\n",
       " array([ 1.50357152,  0.71787389, -0.359868  , -0.75296544,  0.58125119]),\n",
       " array([ 1.52892317,  0.69336592, -0.36687927, -0.76163671,  0.59558599]),\n",
       " array([ 1.50317469,  0.71698451, -0.37770768, -0.75497311,  0.60221262]),\n",
       " array([ 1.52451286,  0.71061112, -0.38136588, -0.75990926,  0.59549643]),\n",
       " array([ 1.51451366,  0.7100865 , -0.36660483, -0.77036277,  0.60204392]),\n",
       " array([ 1.497715  ,  0.69654655, -0.36947791, -0.74931439,  0.61359305]),\n",
       " array([ 1.50103191,  0.70761314, -0.37810662, -0.74627818,  0.60585844]),\n",
       " array([ 1.51676417,  0.71269718, -0.37767418, -0.76312867,  0.60044165]),\n",
       " array([ 1.4967346 ,  0.71941474, -0.37206354, -0.76193546,  0.60625856]),\n",
       " array([ 1.50706704,  0.69946396, -0.36500088, -0.75144305,  0.59984088]),\n",
       " array([ 1.5259413 ,  0.71036696, -0.38843671, -0.75032111,  0.59182393]),\n",
       " array([ 1.52980897,  0.71104811, -0.38055041, -0.75381528,  0.58358953]),\n",
       " array([ 1.50726544,  0.71337863, -0.39232637, -0.74382308,  0.60448939]),\n",
       " array([ 1.50612527,  0.69522605, -0.34220059, -0.76493647,  0.59503479]),\n",
       " array([ 1.49973486,  0.71810245, -0.37612222, -0.74973914,  0.59847814]),\n",
       " array([ 1.52773359,  0.68391078, -0.36565371, -0.76911145,  0.61291475]),\n",
       " array([ 1.52270419,  0.70161614, -0.37470364, -0.74117502,  0.58093435]),\n",
       " array([ 1.52361539,  0.7138991 , -0.38872222, -0.751413  ,  0.59253365]),\n",
       " array([ 1.50472609,  0.72083082, -0.3881812 , -0.73793222,  0.59038085]),\n",
       " array([ 1.4904428 ,  0.73056299, -0.36904478, -0.74722252,  0.58519811]),\n",
       " array([ 1.52030133,  0.72972526, -0.3923874 , -0.750846  ,  0.58261494]),\n",
       " array([ 1.52287943,  0.69490022, -0.37779053, -0.76419537,  0.61340118]),\n",
       " array([ 1.4994431 ,  0.71962714, -0.37074224, -0.75199256,  0.59276067]),\n",
       " array([ 1.52969889,  0.71329659, -0.38905755, -0.75224878,  0.58843239]),\n",
       " array([ 1.51859177,  0.70322066, -0.38135276, -0.75660223,  0.60600917]),\n",
       " array([ 1.52245809,  0.70685621, -0.36599456, -0.7672114 ,  0.59329324]),\n",
       " array([ 1.52602913,  0.70840387, -0.37536688, -0.7633446 ,  0.59392316]),\n",
       " array([ 1.54423454,  0.71102702, -0.38982652, -0.77527339,  0.599763  ]),\n",
       " array([ 1.51919976,  0.70540911, -0.37025053, -0.76220657,  0.59758829]),\n",
       " array([ 1.52957412,  0.7187028 , -0.41202418, -0.74235425,  0.59612294]),\n",
       " array([ 1.51411488,  0.70930271, -0.37233002, -0.77221472,  0.61053357]),\n",
       " array([ 1.51860102,  0.71067808, -0.3942787 , -0.74363147,  0.59797565]),\n",
       " array([ 1.50285903,  0.70369543, -0.36564196, -0.74099811,  0.59007068]),\n",
       " array([ 1.52106403,  0.71001849, -0.38962371, -0.75054614,  0.59920078]),\n",
       " array([ 1.51089207,  0.70658015, -0.39249192, -0.73481993,  0.59906591]),\n",
       " array([ 1.51236639,  0.69883065, -0.37012499, -0.74962701,  0.59780575]),\n",
       " array([ 1.50403463,  0.70271367, -0.35908412, -0.75114   ,  0.59343481]),\n",
       " array([ 1.48787631,  0.72643763, -0.38011576, -0.72788937,  0.5831809 ]),\n",
       " array([ 1.50233899,  0.72026367, -0.36577176, -0.77360654,  0.60656061]),\n",
       " array([ 1.50937098,  0.7000832 , -0.3701547 , -0.76666562,  0.61680167]),\n",
       " array([ 1.49534274,  0.7105097 , -0.37416308, -0.74186796,  0.59941668]),\n",
       " array([ 1.51964904,  0.71144705, -0.36409828, -0.74875749,  0.57158014]),\n",
       " array([ 1.51535089,  0.70431842, -0.36209158, -0.76360596,  0.59650093]),\n",
       " array([ 1.50638895,  0.69937826, -0.3623098 , -0.74358075,  0.59030446]),\n",
       " array([ 1.49560373,  0.71551953, -0.36377823, -0.75845465,  0.60022469]),\n",
       " array([ 1.52904825,  0.70060775, -0.38626646, -0.74283273,  0.58986794]),\n",
       " array([ 1.4911572 ,  0.72588594, -0.35658386, -0.74966472,  0.57899806]),\n",
       " array([ 1.48604815,  0.7361666 , -0.36199967, -0.75606797,  0.58508499]),\n",
       " array([ 1.50513385,  0.71913021, -0.37155584, -0.72280408,  0.5606094 ]),\n",
       " array([ 1.49700835,  0.71012632, -0.36259773, -0.73975465,  0.58610166]),\n",
       " array([ 1.49815524,  0.72212723, -0.37766835, -0.73226452,  0.57937952]),\n",
       " array([ 1.49427822,  0.72028851, -0.35969834, -0.74210431,  0.57656682]),\n",
       " array([ 1.52176909,  0.72125564, -0.38468129, -0.75494502,  0.58651604]),\n",
       " array([ 1.49691736,  0.72257892, -0.3531709 , -0.76118555,  0.58493368]),\n",
       " array([ 1.51203376,  0.70374697, -0.37447476, -0.74394543,  0.59214291]),\n",
       " array([ 1.51314763,  0.68584866, -0.35786906, -0.74538705,  0.59373161]),\n",
       " array([ 1.50344665,  0.71610494, -0.37612681, -0.74111045,  0.58735477]),\n",
       " array([ 1.50938505,  0.7138699 , -0.36391356, -0.74618964,  0.57639648]),\n",
       " array([ 1.5100816 ,  0.71890037, -0.37245425, -0.75595624,  0.58888888]),\n",
       " array([ 1.53339056,  0.71712355, -0.36897907, -0.75681589,  0.56507925]),\n",
       " array([ 1.52472199,  0.7276004 , -0.37016199, -0.75691902,  0.56459704]),\n",
       " array([ 1.51676815,  0.71785298, -0.379165  , -0.75888478,  0.59315073]),\n",
       " array([ 1.51512822,  0.69212357, -0.36386083, -0.7587637 ,  0.60456096]),\n",
       " array([ 1.51458995,  0.71792663, -0.37148234, -0.75337966,  0.58121294]),\n",
       " array([ 1.50021699,  0.71322078, -0.36320411, -0.76320077,  0.60246921]),\n",
       " array([ 1.51728147,  0.70542796, -0.36907737, -0.76196161,  0.59787824]),\n",
       " array([ 1.49899892,  0.72929585, -0.3772188 , -0.76018799,  0.59917831]),\n",
       " array([ 1.51448737,  0.70745871, -0.35716493, -0.74061043,  0.56550275]),\n",
       " array([ 1.49956566,  0.7174442 , -0.36891308, -0.74621348,  0.5884199 ]),\n",
       " array([ 1.51521725,  0.70145379, -0.37877775, -0.76186802,  0.61288113]),\n",
       " array([ 1.52009428,  0.70356325, -0.34812718, -0.7368506 ,  0.55100996]),\n",
       " array([ 1.4881088 ,  0.68807475, -0.34328985, -0.74176491,  0.59798416]),\n",
       " array([ 1.46857634,  0.72220335, -0.37752459, -0.74533112,  0.62107713]),\n",
       " array([ 1.51411672,  0.69743646, -0.36776026, -0.7403458 ,  0.58562578]),\n",
       " array([ 1.51010724,  0.71492445, -0.37856012, -0.75056489,  0.59363636]),\n",
       " array([ 1.53658598,  0.69692438, -0.37204218, -0.76429977,  0.59182425]),\n",
       " array([ 1.51755588,  0.70272307, -0.3754789 , -0.73478403,  0.57964783]),\n",
       " array([ 1.51332985,  0.70431713, -0.36484745, -0.76313278,  0.60064433]),\n",
       " array([ 1.50990103,  0.71633678, -0.35726517, -0.76592403,  0.58651671]),\n",
       " array([ 1.51760209,  0.69696594, -0.37936308, -0.77103125,  0.62532516]),\n",
       " array([ 1.50230121,  0.72391293, -0.36375346, -0.75941817,  0.58688777]),\n",
       " array([ 1.52197274,  0.68979773, -0.34605581, -0.76233435,  0.58623377]),\n",
       " array([ 1.50191465,  0.70532999, -0.37923397, -0.7240849 ,  0.58537813]),\n",
       " array([ 1.52161996,  0.7154201 , -0.37453278, -0.75397954,  0.5808296 ]),\n",
       " array([ 1.51118153,  0.68875387, -0.3681541 , -0.74920961,  0.60748419]),\n",
       " array([ 1.5245462 ,  0.69013277, -0.37017027, -0.75791726,  0.60313265]),\n",
       " array([ 1.50519022,  0.69736211, -0.34955144, -0.76727773,  0.6040881 ]),\n",
       " array([ 1.50433845,  0.70406504, -0.36326526, -0.75589712,  0.60096346]),\n",
       " array([ 1.49154187,  0.74163357, -0.37019911, -0.75873047,  0.58604656]),\n",
       " array([ 1.52784333,  0.70749658, -0.36915029, -0.75818229,  0.58174513]),\n",
       " array([ 1.50195746,  0.71227684, -0.38802457, -0.73670125,  0.59949997]),\n",
       " array([ 1.53319973,  0.72459293, -0.37011158, -0.7681422 ,  0.57032058]),\n",
       " array([ 1.52745622,  0.69888449, -0.38782163, -0.75449607,  0.60556927]),\n",
       " array([ 1.49728945,  0.73272394, -0.37601711, -0.73888402,  0.57431553]),\n",
       " array([ 1.51286407,  0.69630091, -0.36078514, -0.75953682,  0.60039257])]"
      ]
     },
     "execution_count": 6,
     "metadata": {},
     "output_type": "execute_result"
    }
   ],
   "source": [
    "result.ASGD"
   ]
  },
  {
   "cell_type": "code",
   "execution_count": 7,
   "metadata": {
    "scrolled": true
   },
   "outputs": [
    {
     "data": {
      "text/html": [
       "<div>\n",
       "<style scoped>\n",
       "    .dataframe tbody tr th:only-of-type {\n",
       "        vertical-align: middle;\n",
       "    }\n",
       "\n",
       "    .dataframe tbody tr th {\n",
       "        vertical-align: top;\n",
       "    }\n",
       "\n",
       "    .dataframe thead th {\n",
       "        text-align: right;\n",
       "    }\n",
       "</style>\n",
       "<table border=\"1\" class=\"dataframe\">\n",
       "  <thead>\n",
       "    <tr style=\"text-align: right;\">\n",
       "      <th></th>\n",
       "      <th>0</th>\n",
       "      <th>1</th>\n",
       "      <th>2</th>\n",
       "      <th>3</th>\n",
       "      <th>4</th>\n",
       "    </tr>\n",
       "  </thead>\n",
       "  <tbody>\n",
       "    <tr>\n",
       "      <td>0</td>\n",
       "      <td>1.672177</td>\n",
       "      <td>-0.535963</td>\n",
       "      <td>-0.477047</td>\n",
       "      <td>-0.458265</td>\n",
       "      <td>-0.198176</td>\n",
       "    </tr>\n",
       "    <tr>\n",
       "      <td>1</td>\n",
       "      <td>-0.535963</td>\n",
       "      <td>1.389093</td>\n",
       "      <td>-0.332629</td>\n",
       "      <td>0.105919</td>\n",
       "      <td>-0.622021</td>\n",
       "    </tr>\n",
       "    <tr>\n",
       "      <td>2</td>\n",
       "      <td>-0.477047</td>\n",
       "      <td>-0.332629</td>\n",
       "      <td>1.375674</td>\n",
       "      <td>-0.296674</td>\n",
       "      <td>-0.266868</td>\n",
       "    </tr>\n",
       "    <tr>\n",
       "      <td>3</td>\n",
       "      <td>-0.458265</td>\n",
       "      <td>0.105919</td>\n",
       "      <td>-0.296674</td>\n",
       "      <td>1.328816</td>\n",
       "      <td>-0.677145</td>\n",
       "    </tr>\n",
       "    <tr>\n",
       "      <td>4</td>\n",
       "      <td>-0.198176</td>\n",
       "      <td>-0.622021</td>\n",
       "      <td>-0.266868</td>\n",
       "      <td>-0.677145</td>\n",
       "      <td>1.753910</td>\n",
       "    </tr>\n",
       "  </tbody>\n",
       "</table>\n",
       "</div>"
      ],
      "text/plain": [
       "          0         1         2         3         4\n",
       "0  1.672177 -0.535963 -0.477047 -0.458265 -0.198176\n",
       "1 -0.535963  1.389093 -0.332629  0.105919 -0.622021\n",
       "2 -0.477047 -0.332629  1.375674 -0.296674 -0.266868\n",
       "3 -0.458265  0.105919 -0.296674  1.328816 -0.677145\n",
       "4 -0.198176 -0.622021 -0.266868 -0.677145  1.753910"
      ]
     },
     "execution_count": 7,
     "metadata": {},
     "output_type": "execute_result"
    }
   ],
   "source": [
    "10000*pd.DataFrame(result.ASGD).cov()"
   ]
  },
  {
   "cell_type": "code",
   "execution_count": 8,
   "metadata": {},
   "outputs": [],
   "source": [
    "true = np.repeat(5,5)\n",
    "true= true.reshape(5,1)\n",
    "true = np.dot(true,true.T)\n",
    "\n",
    "true = true + np.eye(5)\n",
    "true = np.linalg.inv(true)"
   ]
  },
  {
   "cell_type": "code",
   "execution_count": 9,
   "metadata": {
    "scrolled": false
   },
   "outputs": [
    {
     "data": {
      "text/plain": [
       "array([[ 0.8015873, -0.1984127, -0.1984127, -0.1984127, -0.1984127],\n",
       "       [-0.1984127,  0.8015873, -0.1984127, -0.1984127, -0.1984127],\n",
       "       [-0.1984127, -0.1984127,  0.8015873, -0.1984127, -0.1984127],\n",
       "       [-0.1984127, -0.1984127, -0.1984127,  0.8015873, -0.1984127],\n",
       "       [-0.1984127, -0.1984127, -0.1984127, -0.1984127,  0.8015873]])"
      ]
     },
     "execution_count": 9,
     "metadata": {},
     "output_type": "execute_result"
    }
   ],
   "source": [
    "true"
   ]
  },
  {
   "cell_type": "markdown",
   "metadata": {},
   "source": [
    "# 每次生成不同data進行迭代"
   ]
  },
  {
   "cell_type": "code",
   "execution_count": 10,
   "metadata": {},
   "outputs": [],
   "source": [
    "class SGD_ASGD_linear2():\n",
    "    \n",
    "    def train(self,epoch,n,dim,lr,alpha,param_fix=True):\n",
    "        \n",
    "        if param_fix:\n",
    "            np.random.seed(2021)\n",
    "            self.true_theta = np.random.randn(dim)\n",
    "            np.random.seed()\n",
    "        else:\n",
    "            self.true_theta = np.random.randn(dim)\n",
    "        \n",
    "       \n",
    "        \n",
    "        self.SGD = list()\n",
    "        self.ASGD = list()\n",
    "        \n",
    "        for m in tqdm_notebook(range(epoch)):\n",
    "            \n",
    "            self.theta_hat =[]\n",
    "            theta_hat = np.random.randn(len(self.true_theta))\n",
    "            for i in range(n):\n",
    "                \n",
    "                lr_now = lr*pow(i+1,-alpha)\n",
    "                x = np.random.normal(loc=5,scale=1,size=dim)\n",
    "                y = np.dot(self.true_theta,x)+np.random.randn()\n",
    "                coef = np.linalg.inv(np.eye(dim)+lr_now*np.dot(x.reshape(dim,-1),x.reshape(-1,dim)))\n",
    "                theta_hat = np.dot(coef,theta_hat) + np.dot(coef,lr_now*y*x)\n",
    "\n",
    "                self.theta_hat.append(theta_hat)\n",
    "\n",
    "            self.SGD.append(self.theta_hat[-1])\n",
    "            self.ASGD.append(np.mean(self.theta_hat,axis=0))\n",
    "            \n",
    "            "
   ]
  },
  {
   "cell_type": "code",
   "execution_count": 11,
   "metadata": {},
   "outputs": [],
   "source": [
    "n = 10000\n",
    "dim = 5\n",
    "lr = 10\n",
    "alpha = 0.6\n",
    "epoch = 100"
   ]
  },
  {
   "cell_type": "code",
   "execution_count": 12,
   "metadata": {
    "scrolled": true
   },
   "outputs": [
    {
     "data": {
      "application/vnd.jupyter.widget-view+json": {
       "model_id": "b53cdd5f43b440be9fe4ec436d3c34bc",
       "version_major": 2,
       "version_minor": 0
      },
      "text/plain": [
       "HBox(children=(IntProgress(value=0), HTML(value='')))"
      ]
     },
     "metadata": {},
     "output_type": "display_data"
    },
    {
     "name": "stdout",
     "output_type": "stream",
     "text": [
      "\n"
     ]
    }
   ],
   "source": [
    "result2 = SGD_ASGD_linear2()\n",
    "result2.train(epoch,n,dim,lr,alpha)"
   ]
  },
  {
   "cell_type": "code",
   "execution_count": 13,
   "metadata": {
    "scrolled": true
   },
   "outputs": [
    {
     "data": {
      "text/plain": [
       "array([ 1.48860905,  0.67601087, -0.41845137, -0.80652081,  0.55587583])"
      ]
     },
     "execution_count": 13,
     "metadata": {},
     "output_type": "execute_result"
    }
   ],
   "source": [
    "result2.true_theta"
   ]
  },
  {
   "cell_type": "code",
   "execution_count": 14,
   "metadata": {},
   "outputs": [
    {
     "data": {
      "text/html": [
       "<div>\n",
       "<style scoped>\n",
       "    .dataframe tbody tr th:only-of-type {\n",
       "        vertical-align: middle;\n",
       "    }\n",
       "\n",
       "    .dataframe tbody tr th {\n",
       "        vertical-align: top;\n",
       "    }\n",
       "\n",
       "    .dataframe thead th {\n",
       "        text-align: right;\n",
       "    }\n",
       "</style>\n",
       "<table border=\"1\" class=\"dataframe\">\n",
       "  <thead>\n",
       "    <tr style=\"text-align: right;\">\n",
       "      <th></th>\n",
       "      <th>0</th>\n",
       "      <th>1</th>\n",
       "      <th>2</th>\n",
       "      <th>3</th>\n",
       "      <th>4</th>\n",
       "    </tr>\n",
       "  </thead>\n",
       "  <tbody>\n",
       "    <tr>\n",
       "      <td>0</td>\n",
       "      <td>2.889850</td>\n",
       "      <td>-0.462595</td>\n",
       "      <td>-0.753553</td>\n",
       "      <td>-0.841729</td>\n",
       "      <td>-0.828008</td>\n",
       "    </tr>\n",
       "    <tr>\n",
       "      <td>1</td>\n",
       "      <td>-0.462595</td>\n",
       "      <td>2.519848</td>\n",
       "      <td>-0.581295</td>\n",
       "      <td>-0.407049</td>\n",
       "      <td>-1.105673</td>\n",
       "    </tr>\n",
       "    <tr>\n",
       "      <td>2</td>\n",
       "      <td>-0.753553</td>\n",
       "      <td>-0.581295</td>\n",
       "      <td>2.272752</td>\n",
       "      <td>-0.694493</td>\n",
       "      <td>-0.207994</td>\n",
       "    </tr>\n",
       "    <tr>\n",
       "      <td>3</td>\n",
       "      <td>-0.841729</td>\n",
       "      <td>-0.407049</td>\n",
       "      <td>-0.694493</td>\n",
       "      <td>2.592966</td>\n",
       "      <td>-0.614888</td>\n",
       "    </tr>\n",
       "    <tr>\n",
       "      <td>4</td>\n",
       "      <td>-0.828008</td>\n",
       "      <td>-1.105673</td>\n",
       "      <td>-0.207994</td>\n",
       "      <td>-0.614888</td>\n",
       "      <td>2.764238</td>\n",
       "    </tr>\n",
       "  </tbody>\n",
       "</table>\n",
       "</div>"
      ],
      "text/plain": [
       "          0         1         2         3         4\n",
       "0  2.889850 -0.462595 -0.753553 -0.841729 -0.828008\n",
       "1 -0.462595  2.519848 -0.581295 -0.407049 -1.105673\n",
       "2 -0.753553 -0.581295  2.272752 -0.694493 -0.207994\n",
       "3 -0.841729 -0.407049 -0.694493  2.592966 -0.614888\n",
       "4 -0.828008 -1.105673 -0.207994 -0.614888  2.764238"
      ]
     },
     "execution_count": 14,
     "metadata": {},
     "output_type": "execute_result"
    }
   ],
   "source": [
    "10000*pd.DataFrame(result2.ASGD).cov()"
   ]
  },
  {
   "cell_type": "code",
   "execution_count": 15,
   "metadata": {},
   "outputs": [],
   "source": [
    "true = np.repeat(5,5)\n",
    "true= true.reshape(5,1)\n",
    "true = np.dot(true,true.T)\n",
    "\n",
    "true = true + np.eye(5)\n",
    "true = np.linalg.inv(true)"
   ]
  },
  {
   "cell_type": "code",
   "execution_count": 16,
   "metadata": {
    "scrolled": false
   },
   "outputs": [
    {
     "data": {
      "text/plain": [
       "array([[ 0.8015873, -0.1984127, -0.1984127, -0.1984127, -0.1984127],\n",
       "       [-0.1984127,  0.8015873, -0.1984127, -0.1984127, -0.1984127],\n",
       "       [-0.1984127, -0.1984127,  0.8015873, -0.1984127, -0.1984127],\n",
       "       [-0.1984127, -0.1984127, -0.1984127,  0.8015873, -0.1984127],\n",
       "       [-0.1984127, -0.1984127, -0.1984127, -0.1984127,  0.8015873]])"
      ]
     },
     "execution_count": 16,
     "metadata": {},
     "output_type": "execute_result"
    }
   ],
   "source": [
    "true"
   ]
  },
  {
   "cell_type": "code",
   "execution_count": null,
   "metadata": {},
   "outputs": [],
   "source": []
  },
  {
   "cell_type": "code",
   "execution_count": null,
   "metadata": {},
   "outputs": [],
   "source": []
  }
 ],
 "metadata": {
  "kernelspec": {
   "display_name": "Python 3",
   "language": "python",
   "name": "python3"
  },
  "language_info": {
   "codemirror_mode": {
    "name": "ipython",
    "version": 3
   },
   "file_extension": ".py",
   "mimetype": "text/x-python",
   "name": "python",
   "nbconvert_exporter": "python",
   "pygments_lexer": "ipython3",
   "version": "3.7.3"
  },
  "toc": {
   "base_numbering": 1,
   "nav_menu": {},
   "number_sections": true,
   "sideBar": true,
   "skip_h1_title": false,
   "title_cell": "Table of Contents",
   "title_sidebar": "Contents",
   "toc_cell": false,
   "toc_position": {},
   "toc_section_display": true,
   "toc_window_display": false
  }
 },
 "nbformat": 4,
 "nbformat_minor": 2
}
